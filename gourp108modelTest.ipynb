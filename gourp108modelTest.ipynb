{
 "cells": [
  {
   "cell_type": "code",
   "execution_count": null,
   "source": [
    "import numpy as np\r\n",
    "import pandas as pd\r\n",
    "import seaborn as sns\r\n",
    "import matplotlib.pyplot as plt\r\n",
    "from tensorflow import keras\r\n",
    "from sklearn.metrics import r2_score\r\n",
    "from sklearn.preprocessing import MinMaxScaler\r\n",
    "from sklearn.metrics import mean_squared_error"
   ],
   "outputs": [],
   "metadata": {}
  },
  {
   "cell_type": "code",
   "execution_count": null,
   "source": [
    "def ccc(x,y):\r\n",
    "    ''' Concordance Correlation Coefficient'''\r\n",
    "    sxy = np.sum((x - x.mean())*(y - y.mean()))/x.shape[0]\r\n",
    "    rhoc = 2*sxy / (np.var(x) + np.var(y) + (x.mean() - y.mean())**2)\r\n",
    "    return rhoc"
   ],
   "outputs": [],
   "metadata": {}
  },
  {
   "cell_type": "code",
   "execution_count": null,
   "source": [
    "def dispCCC(df):\r\n",
    "    # Get CCC\r\n",
    "    cccVal = ccc(df.loc[:,df.columns[0]], df.loc[:,df.columns[1]])\r\n",
    "    cccVal = np.array2string(cccVal, precision=4)\r\n",
    "    print('\\t\\t'+df.columns[0]+'\\t\\t'+df.columns[1])\r\n",
    "    print(df.columns[0]+'\\t\\t'+'1.0000'+'\\t\\t'+cccVal)\r\n",
    "    print(df.columns[1]+'\\t'+cccVal+'\\t\\t'+'1.0000')"
   ],
   "outputs": [],
   "metadata": {}
  },
  {
   "cell_type": "markdown",
   "source": [
    "## Use existing submission result\r\n"
   ],
   "metadata": {}
  },
  {
   "cell_type": "code",
   "execution_count": null,
   "source": [
    "submissionPath = 'outputFile/models/[202109160318]EsModel/es2jSubmission.csv'\r\n",
    "submission = pd.read_csv(submissionPath)"
   ],
   "outputs": [],
   "metadata": {}
  },
  {
   "cell_type": "code",
   "execution_count": null,
   "source": [
    "submission.loc[1:, ['Arousal', 'Prediction']].plot(figsize=(36, 24), title='Actual VS Prediction', fontsize=16)\r\n",
    "plt.show()"
   ],
   "outputs": [],
   "metadata": {}
  },
  {
   "cell_type": "code",
   "execution_count": null,
   "source": [
    "correlation = submission.corr(method='pearson')\r\n",
    "print('Pearson Correlation')\r\n",
    "print(correlation)\r\n",
    "print()\r\n",
    "print('CCC')\r\n",
    "dispCCC(submission)\r\n",
    "d0 = submission[['Arousal', 'Prediction']]\r\n",
    "plt.ioff()\r\n",
    "fig = plt.figure(figsize=[24, 24])\r\n",
    "fig.suptitle('Actual Prediction Correlation', fontsize=16)\r\n",
    "sns.pairplot(d0, kind='scatter')\r\n",
    "plt.show()"
   ],
   "outputs": [],
   "metadata": {}
  },
  {
   "cell_type": "markdown",
   "source": [
    "## Use the model to predict\r\n"
   ],
   "metadata": {}
  },
  {
   "cell_type": "code",
   "execution_count": null,
   "source": [
    "modelPath = 'outputFile/models/[202109160318]EsModel'\r\n",
    "testDataset = 'inputFile/modelInput/jlco0000st.csv'"
   ],
   "outputs": [],
   "metadata": {}
  },
  {
   "cell_type": "code",
   "execution_count": null,
   "source": [
    "# prepare data for lstms\r\n",
    "def series_to_supervised(data, n_in=1, n_out=1, dropnan=True):\r\n",
    "    n_vars = 1 if type(data) is list else data.shape[1]\r\n",
    "    df = pd.DataFrame(data)\r\n",
    "    cols, names = list(), list()\r\n",
    "    # input sequence (t-n, ... t-1)\r\n",
    "    for i in range(n_in, 0, -1):\r\n",
    "        cols.append(df.shift(i))\r\n",
    "        names += [('var%d(t-%d)' % (j+1, i)) for j in range(n_vars)]\r\n",
    "    # forecast sequence (t, t+1, ... t+n)\r\n",
    "    for i in range(0, n_out):\r\n",
    "        cols.append(df.shift(-i))\r\n",
    "        if i == 0:\r\n",
    "            names += [('var%d(t)' % (j+1)) for j in range(n_vars)]\r\n",
    "        else:\r\n",
    "            names += [('var%d(t+%d)' % (j+1, i)) for j in range(n_vars)]\r\n",
    "    # put it all together\r\n",
    "    agg = pd.concat(cols, axis=1)\r\n",
    "    agg.columns = names\r\n",
    "    # drop rows with NaN values\r\n",
    "    if dropnan:\r\n",
    "        agg.dropna(inplace=True)\r\n",
    "    return agg\r\n",
    "\r\n",
    "# Define scaler, feature number and number of step looking back\r\n",
    "scale_range = (0, 1)\r\n",
    "scaler = MinMaxScaler(feature_range=scale_range)\r\n",
    "n_steps = 24  # exclude the current step\r\n",
    "n_features = 7\r\n",
    "\r\n",
    "usingJL = False\r\n",
    "transformTarget = True"
   ],
   "outputs": [],
   "metadata": {}
  },
  {
   "cell_type": "code",
   "execution_count": null,
   "source": [
    "testingDataset = pd.read_csv('inputFile/modelInput/jlco0000st.csv')\r\n",
    "targetOfTestingDatasest = testingDataset['Arousal'][n_steps:]\r\n",
    "testingDataset = testingDataset[['RMS', 'F0', 'MFCC1', 'MFCC2', 'MFCC3', 'MFCC4', 'MFCC5']]\r\n",
    "print(testingDataset.head(5))\r\n",
    "\r\n",
    "# load and build testing dataset\r\n",
    "values = testingDataset.values\r\n",
    "# normalize features\r\n",
    "testingScaled = scaler.fit_transform(values)\r\n",
    "# frame as supervised learning\r\n",
    "reframed = series_to_supervised(testingScaled, n_steps, 1)\r\n",
    "print(reframed.shape)\r\n",
    "values = reframed.values\r\n",
    "test = values\r\n",
    "\r\n",
    "test_X = test\r\n",
    "test_y = targetOfTestingDatasest\r\n",
    "\r\n",
    "# reshape input to be 3D [samples, timesteps (n_steps before + 1 current step), features]\r\n",
    "test_X = test_X.reshape((test_X.shape[0], n_steps + 1, n_features))"
   ],
   "outputs": [],
   "metadata": {}
  },
  {
   "cell_type": "code",
   "execution_count": null,
   "source": [
    "# Load the model\r\n",
    "model = keras.models.load_model(modelPath)"
   ],
   "outputs": [],
   "metadata": {}
  },
  {
   "cell_type": "code",
   "execution_count": null,
   "source": [
    "# make a prediction\r\n",
    "if transformTarget:\r\n",
    "    inv_yPredict = model.predict(test_X)\r\n",
    "    # inv transform the predicted value\r\n",
    "    yPredict = scaler.inverse_transform(inv_yPredict.reshape(-1, 1))\r\n",
    "    yPredict = yPredict[:, 0]\r\n",
    "else:\r\n",
    "    yPredict = model.predict(test_X)\r\n",
    "\r\n",
    "# actual value\r\n",
    "yActual = test_y\r\n",
    "# calculate RMSE\r\n",
    "rmse = np.sqrt(mean_squared_error(yActual, yPredict))\r\n",
    "print('Test RMSE: %.3f' % rmse)"
   ],
   "outputs": [],
   "metadata": {}
  },
  {
   "cell_type": "code",
   "execution_count": null,
   "source": [
    "r2_score(yActual, yPredict)"
   ],
   "outputs": [],
   "metadata": {}
  },
  {
   "cell_type": "code",
   "execution_count": null,
   "source": [
    "pred_test_list = [i for i in yPredict]\r\n",
    "actualVsPrediction = pd.DataFrame({'Arousal': yActual, 'Prediction': pred_test_list})\r\n",
    "actualVsPrediction.loc[1:, ['Arousal', 'Prediction']].plot(figsize=(36, 24), title='Actual VS Prediction', fontsize=16)\r\n",
    "plt.show()"
   ],
   "outputs": [],
   "metadata": {}
  },
  {
   "cell_type": "code",
   "execution_count": null,
   "source": [
    "correlation = actualVsPrediction.corr(method='pearson')\r\n",
    "print('Pearson Correlation')\r\n",
    "print(correlation)\r\n",
    "print()\r\n",
    "print('CCC')\r\n",
    "dispCCC(actualVsPrediction)\r\n",
    "d0 = actualVsPrediction[['Arousal', 'Prediction']]\r\n",
    "plt.ioff()\r\n",
    "fig = plt.figure(figsize=[24, 24])\r\n",
    "fig.suptitle('Actual Prediction Correlation', fontsize=16)\r\n",
    "sns.pairplot(d0, kind='scatter')\r\n",
    "plt.show()"
   ],
   "outputs": [],
   "metadata": {}
  }
 ],
 "metadata": {
  "orig_nbformat": 4,
  "language_info": {
   "name": "python",
   "version": "3.6.7",
   "mimetype": "text/x-python",
   "codemirror_mode": {
    "name": "ipython",
    "version": 3
   },
   "pygments_lexer": "ipython3",
   "nbconvert_exporter": "python",
   "file_extension": ".py"
  },
  "kernelspec": {
   "name": "python3",
   "display_name": "Python 3.6.7 64-bit"
  },
  "interpreter": {
   "hash": "f7291e4b392a32fbfa525b87d1bbd0a3d888adf3d0deca0c205c61b9e7284b82"
  }
 },
 "nbformat": 4,
 "nbformat_minor": 2
}