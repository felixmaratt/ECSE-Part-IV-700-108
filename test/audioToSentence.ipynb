{
 "cells": [
  {
   "cell_type": "markdown",
   "source": [
    "# This file is to split audio to sentences with silence detection methodology\r\n"
   ],
   "metadata": {}
  },
  {
   "cell_type": "code",
   "execution_count": 5,
   "source": [
    "import base64\r\n",
    "rStart = \\\r\n",
    "'''\r\n",
    "print('Process RECOLA Start')\r\n",
    "'''\r\n",
    "rStart = base64.b64encode(bytes(rStart, 'utf-8'))\r\n",
    "\r\n",
    "sStart = \\\r\n",
    "'''\r\n",
    "print('Extraction Semaine Start')\r\n",
    "'''\r\n",
    "sStart = base64.b64encode(bytes(sStart, 'utf-8'))"
   ],
   "outputs": [],
   "metadata": {}
  },
  {
   "cell_type": "code",
   "execution_count": 1,
   "source": [
    "from pydub import AudioSegment, silence\r\n",
    "\r\n",
    "def silenceStampExtract(audioPath):\r\n",
    "    myaudio = AudioSegment.from_wav(audioPath)\r\n",
    "    slc = silence.detect_silence(myaudio, min_silence_len=1000, silence_thresh=-32)\r\n",
    "    slc = [((start/1000),(stop/1000)) for start,stop in slc] #convert to sec\r\n",
    "    print(slc)"
   ],
   "outputs": [],
   "metadata": {}
  },
  {
   "cell_type": "code",
   "execution_count": 3,
   "source": [
    "RECOLA_PATH = '../inputFile/emotional_behaviour/RECOLA-Audio-recordings/'\r\n",
    "SEMAINE_PATH =  '../inputFile/Sessions/'"
   ],
   "outputs": [],
   "metadata": {}
  },
  {
   "cell_type": "code",
   "execution_count": 4,
   "source": [
    "import os\r\n",
    "import numpy as np\r\n",
    "import pandas as pd"
   ],
   "outputs": [],
   "metadata": {}
  },
  {
   "cell_type": "code",
   "execution_count": null,
   "source": [
    "eval(compile(base64.b64decode(rStart), \"<string>\", 'exec'))\r\n",
    "for dir, _, filenames in os.walk(RECOLA_PATH):\r\n",
    "    dir = dir.replace('\\\\', '/')+'/'\r\n",
    "    "
   ],
   "outputs": [],
   "metadata": {}
  },
  {
   "cell_type": "code",
   "execution_count": 6,
   "source": [
    "a = b = c = 1\r\n",
    "c"
   ],
   "outputs": [
    {
     "output_type": "execute_result",
     "data": {
      "text/plain": [
       "1"
      ]
     },
     "metadata": {},
     "execution_count": 6
    }
   ],
   "metadata": {}
  }
 ],
 "metadata": {
  "orig_nbformat": 4,
  "language_info": {
   "name": "python",
   "version": "3.6.7",
   "mimetype": "text/x-python",
   "codemirror_mode": {
    "name": "ipython",
    "version": 3
   },
   "pygments_lexer": "ipython3",
   "nbconvert_exporter": "python",
   "file_extension": ".py"
  },
  "kernelspec": {
   "name": "python3",
   "display_name": "Python 3.6.7 64-bit"
  },
  "interpreter": {
   "hash": "f7291e4b392a32fbfa525b87d1bbd0a3d888adf3d0deca0c205c61b9e7284b82"
  }
 },
 "nbformat": 4,
 "nbformat_minor": 2
}