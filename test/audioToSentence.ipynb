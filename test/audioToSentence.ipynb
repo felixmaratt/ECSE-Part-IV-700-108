{
 "cells": [
  {
   "cell_type": "markdown",
   "source": [
    "# This file is to split audio csv to sentences csv based on tags\r\n"
   ],
   "metadata": {}
  },
  {
   "cell_type": "code",
   "execution_count": 5,
   "source": [
    "import os\r\n",
    "import pandas as pd\r\n",
    "from collections import namedtuple"
   ],
   "outputs": [],
   "metadata": {}
  },
  {
   "cell_type": "code",
   "execution_count": 6,
   "source": [
    "import base64\r\n",
    "bStart = \\\r\n",
    "'''\r\n",
    "print('Process Start')\r\n",
    "'''\r\n",
    "bStart = base64.b64encode(bytes(bStart, 'utf-8'))\r\n",
    "\r\n",
    "bEnd = \\\r\n",
    "'''\r\n",
    "print('Tasks are completed')\r\n",
    "'''\r\n",
    "bEnd = base64.b64encode(bytes(bEnd, 'utf-8'))"
   ],
   "outputs": [],
   "metadata": {}
  },
  {
   "cell_type": "code",
   "execution_count": 7,
   "source": [
    "def a2s():\r\n",
    "    inputPath = '../inputFile/modelInput/'\r\n",
    "    outputPath = '../inputFile/modelInput/sentences/'\r\n",
    "    eval(compile(base64.b64decode(bStart), '<string>', 'exec'))\r\n",
    "    sentencesTuple = namedtuple('Sentences', ['Time', 'Valence', 'Arousal', 'RMS', 'F0', 'MFCC1' , 'MFCC2' , 'MFCC3', 'MFCC4', 'MFCC5'])\r\n",
    "    lengthDistributionDf = pd.DataFrame()\r\n",
    "    for dir, _, filenames in os.walk(inputPath):\r\n",
    "        if (dir.find('sentences') != -1):\r\n",
    "            continue\r\n",
    "        try:\r\n",
    "           filenames.remove('jlco0000st.csv'); filenames.remove('allFileCombineU.csv'); filenames.remove('allFileCombineP.csv');\r\n",
    "        except:\r\n",
    "            pass\r\n",
    "        for file in filenames:\r\n",
    "            count = 0\r\n",
    "            currentDf = pd.DataFrame()\r\n",
    "            fileName = file[:file.rfind('.')]\r\n",
    "            fileDf = pd.read_csv(os.path.join(dir, file))\r\n",
    "            # min_length of voice in ms\r\n",
    "            min_length = 1000\r\n",
    "            if (fileName.find('reco') != -1):\r\n",
    "                min_length /= 40\r\n",
    "            elif (fileName.find('sema') != -1):\r\n",
    "                min_length /= 20\r\n",
    "            for row in fileDf.itertuples(index=False):\r\n",
    "                if (row[-1] == 'V'):\r\n",
    "                    # use * to passes in each element of the row sequence as a separate argument\r\n",
    "                    currentDf = pd.concat([currentDf, pd.DataFrame([sentencesTuple(*row[:-1])])], ignore_index=True)\r\n",
    "                elif (row[-1] == 'S' and currentDf.shape[0] >= min_length):\r\n",
    "                    # e.g sema0126tu001\r\n",
    "                    currentName = fileName+str(count).zfill(3);\r\n",
    "                    # increase file name\r\n",
    "                    count += 1\r\n",
    "                    # write to dict\r\n",
    "                    currentDf.to_csv(outputPath+currentName+'.csv', index=False)\r\n",
    "                    lengthDistributionDf = pd.concat([lengthDistributionDf, pd.DataFrame({'Name': [currentName], 'Length':[currentDf.shape[0]]})])\r\n",
    "                    # empty df\r\n",
    "                    currentDf = pd.DataFrame()\r\n",
    "                else:\r\n",
    "                    pass\r\n",
    "                    \r\n",
    "            # if the last element is V, save\r\n",
    "            if (currentDf.shape[0] >= min_length):\r\n",
    "                currentName = fileName+str(count).zfill(3);\r\n",
    "                currentDf.to_csv(outputPath+currentName+'.csv', index=False)\r\n",
    "                lengthDistributionDf = pd.concat([lengthDistributionDf, pd.DataFrame({'Name': [currentName], 'Length':[currentDf.shape[0]]})])\r\n",
    "            else:\r\n",
    "                pass\r\n",
    "\r\n",
    "    lengthDistributionDf.to_csv(outputPath+'lengthDistribution'+'.csv', index=False)\r\n",
    "    eval(compile(base64.b64decode(bEnd), '<string>', 'exec'))"
   ],
   "outputs": [],
   "metadata": {}
  },
  {
   "cell_type": "code",
   "execution_count": 8,
   "source": [
    "if __name__ == '__main__':\r\n",
    "    a2s()"
   ],
   "outputs": [
    {
     "output_type": "stream",
     "name": "stdout",
     "text": [
      "Process Start\n"
     ]
    },
    {
     "output_type": "error",
     "ename": "ValueError",
     "evalue": "Type names and field names must be valid identifiers: 'RMS(dB)'",
     "traceback": [
      "\u001b[1;31m---------------------------------------------------------------------------\u001b[0m",
      "\u001b[1;31mValueError\u001b[0m                                Traceback (most recent call last)",
      "\u001b[1;32m~\\AppData\\Local\\Temp/ipykernel_18288/2409099884.py\u001b[0m in \u001b[0;36m<module>\u001b[1;34m\u001b[0m\n\u001b[0;32m      1\u001b[0m \u001b[1;32mif\u001b[0m \u001b[0m__name__\u001b[0m \u001b[1;33m==\u001b[0m \u001b[1;34m'__main__'\u001b[0m\u001b[1;33m:\u001b[0m\u001b[1;33m\u001b[0m\u001b[1;33m\u001b[0m\u001b[0m\n\u001b[1;32m----> 2\u001b[1;33m     \u001b[0ma2s\u001b[0m\u001b[1;33m(\u001b[0m\u001b[1;33m)\u001b[0m\u001b[1;33m\u001b[0m\u001b[1;33m\u001b[0m\u001b[0m\n\u001b[0m",
      "\u001b[1;32m~\\AppData\\Local\\Temp/ipykernel_18288/2161589064.py\u001b[0m in \u001b[0;36ma2s\u001b[1;34m()\u001b[0m\n\u001b[0;32m      3\u001b[0m     \u001b[0moutputPath\u001b[0m \u001b[1;33m=\u001b[0m \u001b[1;34m'../inputFile/modelInput/sentences/'\u001b[0m\u001b[1;33m\u001b[0m\u001b[1;33m\u001b[0m\u001b[0m\n\u001b[0;32m      4\u001b[0m     \u001b[0meval\u001b[0m\u001b[1;33m(\u001b[0m\u001b[0mcompile\u001b[0m\u001b[1;33m(\u001b[0m\u001b[0mbase64\u001b[0m\u001b[1;33m.\u001b[0m\u001b[0mb64decode\u001b[0m\u001b[1;33m(\u001b[0m\u001b[0mbStart\u001b[0m\u001b[1;33m)\u001b[0m\u001b[1;33m,\u001b[0m \u001b[1;34m'<string>'\u001b[0m\u001b[1;33m,\u001b[0m \u001b[1;34m'exec'\u001b[0m\u001b[1;33m)\u001b[0m\u001b[1;33m)\u001b[0m\u001b[1;33m\u001b[0m\u001b[1;33m\u001b[0m\u001b[0m\n\u001b[1;32m----> 5\u001b[1;33m     \u001b[0msentencesTuple\u001b[0m \u001b[1;33m=\u001b[0m \u001b[0mnamedtuple\u001b[0m\u001b[1;33m(\u001b[0m\u001b[1;34m'Sentences'\u001b[0m\u001b[1;33m,\u001b[0m \u001b[1;33m[\u001b[0m\u001b[1;34m'Time'\u001b[0m\u001b[1;33m,\u001b[0m \u001b[1;34m'Valence'\u001b[0m\u001b[1;33m,\u001b[0m \u001b[1;34m'Arousal'\u001b[0m\u001b[1;33m,\u001b[0m \u001b[1;34m'RMS(dB)'\u001b[0m\u001b[1;33m,\u001b[0m \u001b[1;34m'F0'\u001b[0m\u001b[1;33m,\u001b[0m \u001b[1;34m'MFCC1'\u001b[0m \u001b[1;33m,\u001b[0m \u001b[1;34m'MFCC2'\u001b[0m \u001b[1;33m,\u001b[0m \u001b[1;34m'MFCC3'\u001b[0m\u001b[1;33m,\u001b[0m \u001b[1;34m'MFCC4'\u001b[0m\u001b[1;33m,\u001b[0m \u001b[1;34m'MFCC5'\u001b[0m\u001b[1;33m]\u001b[0m\u001b[1;33m)\u001b[0m\u001b[1;33m\u001b[0m\u001b[1;33m\u001b[0m\u001b[0m\n\u001b[0m\u001b[0;32m      6\u001b[0m     \u001b[0mlengthDistributionDf\u001b[0m \u001b[1;33m=\u001b[0m \u001b[0mpd\u001b[0m\u001b[1;33m.\u001b[0m\u001b[0mDataFrame\u001b[0m\u001b[1;33m(\u001b[0m\u001b[1;33m)\u001b[0m\u001b[1;33m\u001b[0m\u001b[1;33m\u001b[0m\u001b[0m\n\u001b[0;32m      7\u001b[0m     \u001b[1;32mfor\u001b[0m \u001b[0mdir\u001b[0m\u001b[1;33m,\u001b[0m \u001b[0m_\u001b[0m\u001b[1;33m,\u001b[0m \u001b[0mfilenames\u001b[0m \u001b[1;32min\u001b[0m \u001b[0mos\u001b[0m\u001b[1;33m.\u001b[0m\u001b[0mwalk\u001b[0m\u001b[1;33m(\u001b[0m\u001b[0minputPath\u001b[0m\u001b[1;33m)\u001b[0m\u001b[1;33m:\u001b[0m\u001b[1;33m\u001b[0m\u001b[1;33m\u001b[0m\u001b[0m\n",
      "\u001b[1;32mC:\\Python39\\lib\\collections\\__init__.py\u001b[0m in \u001b[0;36mnamedtuple\u001b[1;34m(typename, field_names, rename, defaults, module)\u001b[0m\n\u001b[0;32m    388\u001b[0m             \u001b[1;32mraise\u001b[0m \u001b[0mTypeError\u001b[0m\u001b[1;33m(\u001b[0m\u001b[1;34m'Type names and field names must be strings'\u001b[0m\u001b[1;33m)\u001b[0m\u001b[1;33m\u001b[0m\u001b[1;33m\u001b[0m\u001b[0m\n\u001b[0;32m    389\u001b[0m         \u001b[1;32mif\u001b[0m \u001b[1;32mnot\u001b[0m \u001b[0mname\u001b[0m\u001b[1;33m.\u001b[0m\u001b[0misidentifier\u001b[0m\u001b[1;33m(\u001b[0m\u001b[1;33m)\u001b[0m\u001b[1;33m:\u001b[0m\u001b[1;33m\u001b[0m\u001b[1;33m\u001b[0m\u001b[0m\n\u001b[1;32m--> 390\u001b[1;33m             raise ValueError('Type names and field names must be valid '\n\u001b[0m\u001b[0;32m    391\u001b[0m                              f'identifiers: {name!r}')\n\u001b[0;32m    392\u001b[0m         \u001b[1;32mif\u001b[0m \u001b[0m_iskeyword\u001b[0m\u001b[1;33m(\u001b[0m\u001b[0mname\u001b[0m\u001b[1;33m)\u001b[0m\u001b[1;33m:\u001b[0m\u001b[1;33m\u001b[0m\u001b[1;33m\u001b[0m\u001b[0m\n",
      "\u001b[1;31mValueError\u001b[0m: Type names and field names must be valid identifiers: 'RMS(dB)'"
     ]
    }
   ],
   "metadata": {}
  }
 ],
 "metadata": {
  "orig_nbformat": 4,
  "language_info": {
   "name": "python",
   "version": "3.9.2",
   "mimetype": "text/x-python",
   "codemirror_mode": {
    "name": "ipython",
    "version": 3
   },
   "pygments_lexer": "ipython3",
   "nbconvert_exporter": "python",
   "file_extension": ".py"
  },
  "kernelspec": {
   "name": "python3",
   "display_name": "Python 3.9.2 64-bit"
  },
  "interpreter": {
   "hash": "63fd5069d213b44bf678585dea6b12cceca9941eaf7f819626cde1f2670de90d"
  }
 },
 "nbformat": 4,
 "nbformat_minor": 2
}