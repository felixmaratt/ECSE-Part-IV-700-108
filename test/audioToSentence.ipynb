{
 "cells": [
  {
   "cell_type": "markdown",
   "source": [
    "# This file is to split audio csv to sentences csv based on tags\r\n"
   ],
   "metadata": {}
  },
  {
   "cell_type": "code",
   "execution_count": null,
   "source": [
    "import os\r\n",
    "import numpy as np\r\n",
    "import pandas as pd\r\n",
    "from collections import namedtuple"
   ],
   "outputs": [],
   "metadata": {}
  },
  {
   "cell_type": "code",
   "execution_count": null,
   "source": [
    "import base64\r\n",
    "bStart = \\\r\n",
    "'''\r\n",
    "print('Process Start')\r\n",
    "'''\r\n",
    "bStart = base64.b64encode(bytes(bStart, 'utf-8'))\r\n",
    "\r\n",
    "bEnd = \\\r\n",
    "'''\r\n",
    "print('Tasks are completed')\r\n",
    "'''\r\n",
    "bEnd = base64.b64encode(bytes(bEnd, 'utf-8'))"
   ],
   "outputs": [],
   "metadata": {}
  },
  {
   "cell_type": "code",
   "execution_count": null,
   "source": [
    "inputPath = '../inputFile/modelInput/'\r\n",
    "outputPath = '../inputFile/modelInput/sentences/'\r\n",
    "eval(compile(base64.b64decode(bStart), \"<string>\", 'exec'))\r\n",
    "# Titles = ('Time', 'Valence', 'Arousal', 'RMS', 'F0Log10', 'MFCC1' , 'MFCC2' , 'MFCC3', 'MFCC4', 'MFCC5', 'voiceTag')\r\n",
    "sentencesTuple = namedtuple('Sentences', ['Time', 'Valence', 'Arousal', 'RMS', 'F0Log10', 'MFCC1' , 'MFCC2' , 'MFCC3', 'MFCC4', 'MFCC5'])\r\n",
    "for dir, _, filenames in os.walk(inputPath):\r\n",
    "    filenames.remove('allFileCombineU.csv'); filenames.remove('allFileCombineP.csv');\r\n",
    "    for file in filenames:\r\n",
    "        count = 0\r\n",
    "        currentDf = pd.DataFrame()\r\n",
    "        fileName = file[:file.rfind('.')]\r\n",
    "        fileDf = pd.read_csv(os.path.join(dir, file))\r\n",
    "        for row in fileDf.itertuples(index=False):\r\n",
    "            if (row[-1] == 'V'):\r\n",
    "                # use * to passes in each element of the row sequence as a separate argument\r\n",
    "                currentDf = pd.concat([currentDf, pd.DataFrame([sentencesTuple(*row[:-1])])], ignore_index=True)\r\n",
    "            elif (row[-1] == 'S' and currentDf.shape[0] > 0):\r\n",
    "                # e.g sema0126tu001\r\n",
    "                currentName = fileName+str(count).zfill(3);\r\n",
    "                # increase file name\r\n",
    "                count += 1\r\n",
    "                # write to dict\r\n",
    "                currentDf.to_csv(outputPath+currentName+'.csv', index=False)\r\n",
    "                # empty df\r\n",
    "                currentDf = pd.DataFrame()\r\n",
    "            else:\r\n",
    "                pass\r\n",
    "        # if last element is V, save it\r\n",
    "        if (currentDf.shape[0] > 0):\r\n",
    "            currentName = fileName+str(count).zfill(3);\r\n",
    "            currentDf.to_csv(outputPath+currentName+'.csv', index=False)\r\n",
    "        else:\r\n",
    "            pass\r\n",
    "    \r\n",
    "eval(compile(base64.b64decode(bEnd), \"<string>\", 'exec'))\r\n"
   ],
   "outputs": [],
   "metadata": {}
  }
 ],
 "metadata": {
  "orig_nbformat": 4,
  "language_info": {
   "name": "python",
   "version": "3.6.7",
   "mimetype": "text/x-python",
   "codemirror_mode": {
    "name": "ipython",
    "version": 3
   },
   "pygments_lexer": "ipython3",
   "nbconvert_exporter": "python",
   "file_extension": ".py"
  },
  "kernelspec": {
   "name": "python3",
   "display_name": "Python 3.6.7 64-bit"
  },
  "interpreter": {
   "hash": "f7291e4b392a32fbfa525b87d1bbd0a3d888adf3d0deca0c205c61b9e7284b82"
  }
 },
 "nbformat": 4,
 "nbformat_minor": 2
}