{
    "cells": [
        {
            "cell_type": "markdown",
            "source": [
                "# This script will merge features and VA CSV files of the same session in Semaine to a single CSV file\r\n"
            ],
            "metadata": {}
        },
        {
            "cell_type": "code",
            "execution_count": 5,
            "source": [
                "import os\r\n",
                "import numpy as np\r\n",
                "import pandas as pd"
            ],
            "outputs": [],
            "metadata": {}
        },
        {
            "cell_type": "code",
            "execution_count": 6,
            "source": [
                "# Panda series align\r\n",
                "def alignDF(df1, df2):\r\n",
                "    rowDiff = df1.shape[0] - df2.shape[0]\r\n",
                "    if rowDiff >= 0:\r\n",
                "        df1.drop(df1.tail(rowDiff).index, inplace = True)\r\n",
                "    else:\r\n",
                "        df2.drop(df2.tail(-rowDiff).index, inplace = True)\r\n",
                "\r\n",
                "    return df1, df2"
            ],
            "outputs": [],
            "metadata": {}
        },
        {
            "cell_type": "code",
            "execution_count": 7,
            "source": [
                "# This function will take session number and features and valence&arousal csv files as input, then merge to a sigle csv file\r\n",
                "def sessionProcess(dir, filenames, outputPath):\r\n",
                "    # currentSession = dirname[dirname.rfind('/')+1:].rjust(4, '0')\r\n",
                "    currentSession = dir[dir[:-1].rfind('/')+1:-1].zfill(4)\r\n",
                "\r\n",
                "    if len(filenames) == 4:\r\n",
                "        TU_Features, TU_VA = alignDF(pd.read_csv(dir+'TU_Features.csv'), pd.read_csv(dir+'TU_VA.csv'))\r\n",
                "        TU_VA.join(TU_Features.drop(['Time'], axis=1)).to_csv(outputPath+'sema'+currentSession+'tu.csv', index=False)\r\n",
                "\r\n",
                "        TO_Features, TO_VA = alignDF(pd.read_csv(dir+'TO_Features.csv'), pd.read_csv(dir+'TO_VA.csv'))\r\n",
                "        TO_VA.join(TO_Features.drop(['Time'], axis=1)).to_csv(outputPath+'sema'+currentSession+'to.csv', index=False)\r\n",
                "    else:\r\n",
                "        nU = 0\r\n",
                "        nO = 0\r\n",
                "        for file in filenames:\r\n",
                "            if file.find('TU') != -1:\r\n",
                "                nU += 1\r\n",
                "            else:\r\n",
                "                nO += 1\r\n",
                "        \r\n",
                "        if nU == 2:\r\n",
                "            TU_Features, TU_VA = alignDF(pd.read_csv(dir+'TU_Features.csv'), pd.read_csv(dir+'TU_VA.csv'))\r\n",
                "            TU_VA.join(TU_Features.drop(['Time'], axis=1)).to_csv(outputPath+'sema'+currentSession+'tu.csv', index=False)\r\n",
                "        elif nO == 2:\r\n",
                "            TO_Features, TO_VA = alignDF(pd.read_csv(dir+'TO_Features.csv'), pd.read_csv(dir+'TO_VA.csv'))\r\n",
                "            TO_VA.join(TO_Features.drop(['Time'], axis=1)).to_csv(outputPath+'sema'+currentSession+'to.csv', index=False)\r\n",
                "        else:\r\n",
                "            pass"
            ],
            "outputs": [],
            "metadata": {}
        },
        {
            "cell_type": "code",
            "execution_count": 8,
            "source": [
                "# Main program entry\r\n",
                "def main():\r\n",
                "    inputPath = '../../outputFile/Semaine/TrainingInput/'\r\n",
                "    outputPath = \"../../inputFile/modelInput/\"\r\n",
                "\r\n",
                "    print(\"Start merging task\")\r\n",
                "    for dir, _, filenames in os.walk(inputPath):\r\n",
                "        if len(filenames) != 0: \r\n",
                "            sessionProcess(dir.replace('\\\\', '/')+'/', filenames, outputPath)\r\n",
                "\r\n",
                "    print(\"Tasks are completed\")\r\n",
                "\r\n",
                "if __name__ == '__main__':\r\n",
                "    main()"
            ],
            "outputs": [
                {
                    "output_type": "stream",
                    "name": "stdout",
                    "text": [
                        "Start merging task\n",
                        "Tasks are completed\n"
                    ]
                }
            ],
            "metadata": {}
        }
    ],
    "metadata": {
        "orig_nbformat": 4,
        "language_info": {
            "name": "python",
            "version": "3.9.2",
            "mimetype": "text/x-python",
            "codemirror_mode": {
                "name": "ipython",
                "version": 3
            },
            "pygments_lexer": "ipython3",
            "nbconvert_exporter": "python",
            "file_extension": ".py"
        },
        "kernelspec": {
            "name": "python3",
            "display_name": "Python 3.9.2 64-bit"
        },
        "interpreter": {
            "hash": "63fd5069d213b44bf678585dea6b12cceca9941eaf7f819626cde1f2670de90d"
        }
    },
    "nbformat": 4,
    "nbformat_minor": 2
}