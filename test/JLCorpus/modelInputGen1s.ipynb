{
 "cells": [
  {
   "cell_type": "markdown",
   "source": [
    "# To execute this script, run ***modelInputGen*** first to generate dependency file\r\n"
   ],
   "metadata": {}
  },
  {
   "cell_type": "code",
   "execution_count": 1,
   "source": [
    "import numpy as np\r\n",
    "import pandas as pd\r\n",
    "import librosa as lbr"
   ],
   "outputs": [],
   "metadata": {}
  },
  {
   "cell_type": "code",
   "execution_count": 12,
   "source": [
    "def featureExtract(audioFile):\r\n",
    "    # parameters of 1s window under 44.1kHZ\r\n",
    "    samplingRate = 44100\r\n",
    "    frameLength = 44100 # if the length of the last frames is less than this number, they will still be calculated\r\n",
    "    mfccNum = 5\r\n",
    "\r\n",
    "    x, sr = lbr.load(audioFile, sr=samplingRate, mono=True)\r\n",
    "    frames = range(len(x)//frameLength+1)\r\n",
    "    t = lbr.frames_to_time(frames, sr=sr, hop_length=frameLength)\r\n",
    "\r\n",
    "    ##################Energy##################\r\n",
    "    rms = ((lbr.feature.rms(x, frame_length=frameLength, hop_length=frameLength, center=True))[0])\r\n",
    "    rms = 20*np.log10(rms)\r\n",
    "    \r\n",
    "    ##################F0##################\r\n",
    "    f0Result = lbr.yin(x, 50, 300, sr, frame_length=frameLength*4)\r\n",
    "\r\n",
    "    ##################MFCC##################\r\n",
    "    # Transpose mfccResult matrix\r\n",
    "    mfccResult = lbr.feature.mfcc(x, sr=sr, n_mfcc=mfccNum, hop_length=frameLength).T\r\n",
    "\r\n",
    "    ########################################\r\n",
    "    dfT = pd.DataFrame(t, columns=['Time'])\r\n",
    "    dfR = pd.DataFrame(rms, columns=['RMS'])\r\n",
    "    dfF = pd.DataFrame(f0Result, columns=['F0'])\r\n",
    "    \r\n",
    "    # MFCC Title \r\n",
    "    mfccTitle = list()\r\n",
    "    for num in range(mfccNum):\r\n",
    "        mfccTitle.append('MFCC'+str(num+1))\r\n",
    "    dfM = pd.DataFrame(mfccResult, columns=mfccTitle)\r\n",
    "\r\n",
    "    return dfT.join(dfR).join(dfF).join(dfM)"
   ],
   "outputs": [],
   "metadata": {}
  },
  {
   "cell_type": "code",
   "execution_count": 13,
   "source": [
    "def main():\r\n",
    "    vaInput = '../../inputFile/modelInput/jlco0000st.csv'\r\n",
    "    audioFolder = '../../inputFile/JLCorpus/text_wav/'\r\n",
    "\r\n",
    "    # Iterate the csv file to extract desired VA values and tags\r\n",
    "    inputDf = pd.read_csv(vaInput, sep=',')\r\n",
    "    oldFileName = ''\r\n",
    "    stackedDf = pd.DataFrame(columns=list(['Time', 'Valence', 'Arousal', 'RMS', 'F0', 'MFCC1', 'MFCC2', 'MFCC3', 'MFCC4', 'MFCC5', 'FileName']))\r\n",
    "    currentFeatureDf = pd.DataFrame(columns=list(['Time', 'RMS', 'F0', 'MFCC1', 'MFCC2', 'MFCC3', 'MFCC4', 'MFCC5', 'FileName']))\r\n",
    "    for row in inputDf.itertuples(index=False):\r\n",
    "        '''\r\n",
    "        Time,Valence,Arousal,RMS,F0,MFCC1,MFCC2,MFCC3,MFCC4,MFCC5,FileName\r\n",
    "        '''\r\n",
    "        # Construct the file name\r\n",
    "        currentFileName = row[-1]+'.wav'\r\n",
    "\r\n",
    "        # if file name changes\r\n",
    "        if oldFileName != currentFileName:\r\n",
    "            try:\r\n",
    "                vaDf.loc[vaDf.shape[0]] = [currentValence / rowCount, currentArousal / rowCount]\r\n",
    "                currentFeatureDf = currentFeatureDf.join(vaDf)\r\n",
    "                stackedDf = stackedDf.append(currentFeatureDf, ignore_index=True)\r\n",
    "            except:\r\n",
    "                pass\r\n",
    "\r\n",
    "            # Update oldName\r\n",
    "            oldFileName = currentFileName\r\n",
    "            # Extract features based on new name\r\n",
    "            currentFeatureDf = featureExtract(audioFolder+currentFileName)\r\n",
    "            currentFeatureDf['FileName'] = currentFileName[:-4]\r\n",
    "            rowCount = 0 # used for averaging, count the number of rows in a second\r\n",
    "            currentValence = 0\r\n",
    "            currentArousal = 0\r\n",
    "            vaDf = pd.DataFrame(columns=list(['Valence', 'Arousal']))\r\n",
    "        else:\r\n",
    "            pass\r\n",
    "        \r\n",
    "        if (row.Time == int(row.Time) and rowCount != 0):\r\n",
    "            vaDf.loc[vaDf.shape[0]] = [currentValence / rowCount, currentArousal / rowCount]\r\n",
    "            rowCount = 0\r\n",
    "            currentValence = 0\r\n",
    "            currentArousal = 0\r\n",
    "\r\n",
    "        currentArousal = currentArousal + row.Arousal\r\n",
    "        currentValence = currentValence + row.Valence\r\n",
    "        rowCount = rowCount + 1\r\n",
    "\r\n",
    "    vaDf.loc[vaDf.shape[0]] = [currentValence / rowCount, currentArousal / rowCount]\r\n",
    "    currentFeatureDf = currentFeatureDf.join(vaDf)\r\n",
    "    stackedDf = stackedDf.append(currentFeatureDf, ignore_index=True)\r\n",
    "\r\n",
    "    # Save to csv\r\n",
    "    stackedDf.to_csv('../../inputFile/modelInput/oneSecond/jlco0000st.csv', index=False)\r\n",
    "\r\n",
    "if __name__ == '__main__':\r\n",
    "    main()"
   ],
   "outputs": [],
   "metadata": {}
  }
 ],
 "metadata": {
  "orig_nbformat": 4,
  "language_info": {
   "name": "python",
   "version": "3.6.7",
   "mimetype": "text/x-python",
   "codemirror_mode": {
    "name": "ipython",
    "version": 3
   },
   "pygments_lexer": "ipython3",
   "nbconvert_exporter": "python",
   "file_extension": ".py"
  },
  "kernelspec": {
   "name": "python3",
   "display_name": "Python 3.6.7 64-bit"
  },
  "interpreter": {
   "hash": "f7291e4b392a32fbfa525b87d1bbd0a3d888adf3d0deca0c205c61b9e7284b82"
  }
 },
 "nbformat": 4,
 "nbformat_minor": 2
}