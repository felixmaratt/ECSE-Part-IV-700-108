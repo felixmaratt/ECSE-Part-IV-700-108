{
 "cells": [
  {
   "cell_type": "markdown",
   "source": [
    "# This script will generate a boxplot for the unpadded JLCorpus sentences to check their distribution\r\n"
   ],
   "metadata": {}
  },
  {
   "cell_type": "code",
   "execution_count": 1,
   "source": [
    "import pandas as pd\r\n",
    "from matplotlib import pyplot as plt"
   ],
   "outputs": [],
   "metadata": {}
  },
  {
   "cell_type": "code",
   "execution_count": 2,
   "source": [
    "def classEmotion(filename):\r\n",
    "    if (filename.find('angry')!=-1):\r\n",
    "        return 'angry'\r\n",
    "    elif (filename.find('anxious')!=-1):\r\n",
    "        return 'anxious'\r\n",
    "    elif (filename.find('apologetic')!=-1):\r\n",
    "        return 'apologetic'\r\n",
    "    elif (filename.find('confident')!=-1):\r\n",
    "        return 'confident'\r\n",
    "    elif (filename.find('enthusiastic')!=-1):\r\n",
    "        return 'enthusiastic'\r\n",
    "    elif (filename.find('excited')!=-1):\r\n",
    "        return 'excited'\r\n",
    "    elif (filename.find('happy')!=-1):\r\n",
    "        return 'happy'\r\n",
    "    elif (filename.find('sad')!=-1):\r\n",
    "        return 'sad'\r\n",
    "    elif (filename.find('worried')!=-1):\r\n",
    "        return 'worried'\r\n",
    "    else:\r\n",
    "        return 'neutral' \r\n",
    "    "
   ],
   "outputs": [],
   "metadata": {}
  },
  {
   "cell_type": "code",
   "execution_count": 3,
   "source": [
    "inputPath = '../../inputFile/modelInput/jlco0000st.csv'\r\n",
    "outputPath = '../../inputFile/modelInput/sentences/plots/'\r\n",
    "\r\n",
    "def plotDict(dataDict, saveName, saveFormat):\r\n",
    "    if saveName != \"\":\r\n",
    "        plt.ioff()\r\n",
    "    fig = plt.figure(figsize=[24, 12])\r\n",
    "    fig.suptitle(saveName, fontsize=16)\r\n",
    "    # https://stackoverflow.com/a/47661828\r\n",
    "    labels, data = [*zip(*dataDict.items())]  # 'transpose' items to parallel key, value lists\r\n",
    "    plt.boxplot(data)\r\n",
    "    plt.xticks(range(1, len(labels) + 1), labels)\r\n",
    "    plt.xlabel('Emotions')\r\n",
    "    plt.ylabel('Feature'+saveName[-3:])\r\n",
    "\r\n",
    "    if saveName != \"\":\r\n",
    "        plt.savefig(outputPath+saveName+'.'+saveFormat.lower(), format=saveFormat)\r\n",
    "        plt.close(fig)\r\n",
    "    else:\r\n",
    "        plt.show()"
   ],
   "outputs": [],
   "metadata": {}
  },
  {
   "cell_type": "code",
   "execution_count": 4,
   "source": [
    "inputDf = pd.read_csv(inputPath)\r\n",
    "\r\n",
    "for idx in range(3,10):\r\n",
    "    dataDict = {'angry':[], 'anxious':[], 'apologetic':[], 'confident':[], 'enthusiastic':[], 'excited':[], 'happy':[], 'sad':[], 'worried':[], 'neutral':[]}\r\n",
    "    for row in inputDf.itertuples(index=False):\r\n",
    "        # namedtuple('Sentences', ['Time', 'Valence', 'Arousal', 'RMS', 'F0Log10', 'MFCC1' , 'MFCC2' , 'MFCC3', 'MFCC4', 'MFCC5'])\r\n",
    "        dataDict[classEmotion(row[-1   ])].append(row[idx])\r\n",
    "    plotDict(dataDict, \"[JLCorpus]Emotion vs Feature(\"+str(idx-2)+\")\", 'svg')\r\n"
   ],
   "outputs": [],
   "metadata": {}
  }
 ],
 "metadata": {
  "orig_nbformat": 4,
  "language_info": {
   "name": "python",
   "version": "3.9.2",
   "mimetype": "text/x-python",
   "codemirror_mode": {
    "name": "ipython",
    "version": 3
   },
   "pygments_lexer": "ipython3",
   "nbconvert_exporter": "python",
   "file_extension": ".py"
  },
  "kernelspec": {
   "name": "python3",
   "display_name": "Python 3.9.2 64-bit"
  },
  "interpreter": {
   "hash": "63fd5069d213b44bf678585dea6b12cceca9941eaf7f819626cde1f2670de90d"
  }
 },
 "nbformat": 4,
 "nbformat_minor": 2
}