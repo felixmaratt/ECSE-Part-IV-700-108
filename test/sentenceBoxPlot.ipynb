{
 "cells": [
  {
   "cell_type": "markdown",
   "source": [
    "# This script will generate a box plot for the unpadded sentences to check their distribution\r\n"
   ],
   "metadata": {}
  },
  {
   "cell_type": "code",
   "execution_count": 30,
   "source": [
    "import pandas as pd\r\n",
    "from matplotlib import pyplot as plt"
   ],
   "outputs": [],
   "metadata": {}
  },
  {
   "cell_type": "code",
   "execution_count": 31,
   "source": [
    "def classArousal(arousal):\r\n",
    "    # all rules follow [,)\r\n",
    "    if (arousal < -0.875):\r\n",
    "        return -1\r\n",
    "    elif (arousal < -0.625):\r\n",
    "        return -0.75\r\n",
    "    elif (arousal < -0.375):\r\n",
    "        return -0.5\r\n",
    "    elif (arousal < -0.125):\r\n",
    "        return -0.25\r\n",
    "    elif (arousal < 0.125):\r\n",
    "        return 0\r\n",
    "    elif (arousal < 0.375):\r\n",
    "        return 0.25\r\n",
    "    elif (arousal < 0.625):\r\n",
    "        return 0.5\r\n",
    "    elif (arousal < 0.875):\r\n",
    "        return 0.75\r\n",
    "    else:\r\n",
    "        return 1"
   ],
   "outputs": [],
   "metadata": {}
  },
  {
   "cell_type": "code",
   "execution_count": 32,
   "source": [
    "inputPath = '../inputFile/modelInput/sentences/allFileCombineSentenceU.csv'\r\n",
    "outputPath = '../inputFile/modelInput/sentences/plots/'\r\n",
    "\r\n",
    "def plotDict(dataDict, saveName, saveFormat):\r\n",
    "    if saveName != \"\":\r\n",
    "        plt.ioff()\r\n",
    "    fig = plt.figure(figsize=[24, 12])\r\n",
    "    fig.suptitle(saveName, fontsize=16)\r\n",
    "    # https://stackoverflow.com/a/47661828\r\n",
    "    labels, data = [*zip(*dataDict.items())]  # 'transpose' items to parallel key, value lists\r\n",
    "    plt.boxplot(data)\r\n",
    "    plt.xticks(range(1, len(labels) + 1), labels)\r\n",
    "    plt.xlabel('Arousal')\r\n",
    "    plt.ylabel('Feature'+saveName[-3:])\r\n",
    "\r\n",
    "    if saveName != \"\":\r\n",
    "        plt.savefig(outputPath+saveName+'.'+saveFormat.lower(), format=saveFormat)\r\n",
    "        plt.close(fig)\r\n",
    "    else:\r\n",
    "        plt.show()"
   ],
   "outputs": [],
   "metadata": {}
  },
  {
   "cell_type": "code",
   "execution_count": 33,
   "source": [
    "inputDf = pd.read_csv(inputPath)\r\n",
    "\r\n",
    "for idx in range(3,10):\r\n",
    "    dataDict = {-1:[], -0.75:[], -0.5:[], -0.25:[], 0:[], 0.25:[], 0.5:[], 0.75:[], 1:[]}\r\n",
    "    for row in inputDf.itertuples(index=False):\r\n",
    "        # namedtuple('Sentences', ['Time', 'Valence', 'Arousal', 'RMS', 'F0Log10', 'MFCC1' , 'MFCC2' , 'MFCC3', 'MFCC4', 'MFCC5'])\r\n",
    "        dataDict[classArousal(row[2])].append(row[idx])\r\n",
    "    plotDict(dataDict, \"Arousal vs Feature(\"+str(idx-2)+\")\", 'svg')\r\n"
   ],
   "outputs": [],
   "metadata": {}
  }
 ],
 "metadata": {
  "orig_nbformat": 4,
  "language_info": {
   "name": "python",
   "version": "3.6.7",
   "mimetype": "text/x-python",
   "codemirror_mode": {
    "name": "ipython",
    "version": 3
   },
   "pygments_lexer": "ipython3",
   "nbconvert_exporter": "python",
   "file_extension": ".py"
  },
  "kernelspec": {
   "name": "python3",
   "display_name": "Python 3.6.7 64-bit"
  },
  "interpreter": {
   "hash": "f7291e4b392a32fbfa525b87d1bbd0a3d888adf3d0deca0c205c61b9e7284b82"
  }
 },
 "nbformat": 4,
 "nbformat_minor": 2
}