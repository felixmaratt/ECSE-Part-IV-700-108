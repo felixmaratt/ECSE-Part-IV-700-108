{
    "cells": [
        {
            "cell_type": "markdown",
            "source": [
                "# This file is for RECOLA, it will generate appropriated csv file that can be directly used by ML "
            ],
            "metadata": {}
        },
        {
            "cell_type": "code",
            "execution_count": 13,
            "source": [
                "import os\r\n",
                "import numpy as np\r\n",
                "import pandas as pd\r\n",
                "import librosa as lbr"
            ],
            "outputs": [],
            "metadata": {}
        },
        {
            "cell_type": "code",
            "execution_count": 14,
            "source": [
                "def vaAvg(df, VA):\r\n",
                "    df['Time'] = df['time']\r\n",
                "    df[VA] = df.iloc[:, 1:-1].sum(axis=1)/6\r\n",
                "    return df[['Time', VA]]"
            ],
            "outputs": [],
            "metadata": {}
        },
        {
            "cell_type": "code",
            "execution_count": 15,
            "source": [
                "def featureExtract(audioFile):\r\n",
                "    # parameters of 40ms window under 44.1kHZ\r\n",
                "    samplingRate = 44100\r\n",
                "    frameLength = 1764\r\n",
                "    mfccNum = 5\r\n",
                "\r\n",
                "    x, sr = lbr.load(audioFile, sr=samplingRate, mono=True)\r\n",
                "    frames = range(len(x)//frameLength+1)\r\n",
                "    t = lbr.frames_to_time(frames, sr=sr, hop_length=frameLength)\r\n",
                "\r\n",
                "    ##################Energy##################\r\n",
                "    rms = ((lbr.feature.rms(x, frame_length=frameLength, hop_length=frameLength, center=True))[0])\r\n",
                "\r\n",
                "    ##################F0##################\r\n",
                "    f0Result = lbr.yin(x, 65, 3000, sr, frame_length=frameLength*4)\r\n",
                "    f0Log10Result = np.log10(f0Result)\r\n",
                "\r\n",
                "    ##################MFCC##################\r\n",
                "    # Transpose mfccResult matrix\r\n",
                "    mfccResult = lbr.feature.mfcc(x, sr=sr, n_mfcc=mfccNum, hop_length=frameLength).T\r\n",
                "\r\n",
                "    ########################################\r\n",
                "    dfT = pd.DataFrame(t, columns=['Time'])\r\n",
                "    dfR = pd.DataFrame(rms, columns=['RMS'])\r\n",
                "    dfF = pd.DataFrame(f0Log10Result, columns=['F0Log10'])\r\n",
                "    \r\n",
                "    # MFCC Title \r\n",
                "    mfccTitle = list()\r\n",
                "    for num in range(mfccNum):\r\n",
                "        mfccTitle.append('MFCC'+str(num+1))\r\n",
                "    dfM = pd.DataFrame(mfccResult, columns=mfccTitle)\r\n",
                "\r\n",
                "    return dfT.join(dfR).join(dfF).join(dfM)"
            ],
            "outputs": [],
            "metadata": {}
        },
        {
            "cell_type": "code",
            "execution_count": 19,
            "source": [
                "# Main program entry\r\n",
                "def main():\r\n",
                "    inputPath = '../../inputFile/emotional_behaviour/'\r\n",
                "    outputPath = \"../../inputFile/modelInput/\"\r\n",
                "\r\n",
                "    print('Constructing dataframe')\r\n",
                "    dataDict = dict()\r\n",
                "    for dir, _, filenames in os.walk(inputPath):\r\n",
                "        for file in filenames:\r\n",
                "            keyName = file[:file.rfind('.')]\r\n",
                "            if dir.find('arousal') != -1:\r\n",
                "                currentDf = vaAvg(pd.read_csv(os.path.join(dir, file), sep=';'), 'Arousal')\r\n",
                "            elif dir.find('valence') != -1:\r\n",
                "                currentDf = vaAvg(pd.read_csv(os.path.join(dir, file), sep=';'), 'Valence')\r\n",
                "            elif dir.find('recordings') != -1:\r\n",
                "                currentDf = featureExtract(os.path.join(dir, file))\r\n",
                "            else:\r\n",
                "                continue\r\n",
                "\r\n",
                "            if keyName in dataDict:\r\n",
                "                dataDict[keyName] = dataDict[keyName].join(currentDf.drop(['Time'], axis=1))\r\n",
                "            else:\r\n",
                "                dataDict[keyName]  =  currentDf\r\n",
                "\r\n",
                "    print('Saving dataframe to output path')\r\n",
                "    for key in dataDict:\r\n",
                "        valence = dataDict[key].pop('Valence')\r\n",
                "        dataDict[key].insert(2, valence.name, valence)\r\n",
                "        dataDict[key].to_csv(outputPath+'reco00'+key[1:]+'pp.csv', index=False)\r\n",
                "    \r\n",
                "    print('Tasks are completed')\r\n",
                "\r\n",
                "if __name__ == '__main__':\r\n",
                "    main()"
            ],
            "outputs": [
                {
                    "output_type": "stream",
                    "name": "stdout",
                    "text": [
                        "Constructing dataframe\n",
                        "Saving dataframe to output path\n",
                        "Tasks are completed\n"
                    ]
                }
            ],
            "metadata": {}
        }
    ],
    "metadata": {
        "orig_nbformat": 4,
        "language_info": {
            "name": "python",
            "version": "3.6.7",
            "mimetype": "text/x-python",
            "codemirror_mode": {
                "name": "ipython",
                "version": 3
            },
            "pygments_lexer": "ipython3",
            "nbconvert_exporter": "python",
            "file_extension": ".py"
        },
        "kernelspec": {
            "name": "python3",
            "display_name": "Python 3.6.7 64-bit"
        },
        "interpreter": {
            "hash": "f7291e4b392a32fbfa525b87d1bbd0a3d888adf3d0deca0c205c61b9e7284b82"
        }
    },
    "nbformat": 4,
    "nbformat_minor": 2
}