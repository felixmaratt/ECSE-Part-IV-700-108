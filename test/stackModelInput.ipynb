{
 "cells": [
  {
   "cell_type": "markdown",
   "source": [
    "# This script will stack the model input data with two options ---- padded or unpadded\r\n"
   ],
   "metadata": {}
  },
  {
   "cell_type": "code",
   "execution_count": null,
   "source": [
    "import os\r\n",
    "import pandas as pd\r\n",
    "\r\n",
    "# make it const\r\n",
    "def getPadSize():\r\n",
    "    PAD_SIZE = 30500\r\n",
    "    return PAD_SIZE"
   ],
   "outputs": [],
   "metadata": {}
  },
  {
   "cell_type": "code",
   "execution_count": null,
   "source": [
    "def main():\r\n",
    "    IOPath = \"../inputFile/modelInput/\"\r\n",
    "    resultPadDF = pd.DataFrame()\r\n",
    "    resultUnpadDF = pd.DataFrame()\r\n",
    "\r\n",
    "    for dir, _, filenames in os.walk(IOPath):\r\n",
    "        try:\r\n",
    "            filenames.remove('allFileCombineU.csv'); filenames.remove('allFileCombineP.csv');\r\n",
    "        except:\r\n",
    "            pass\r\n",
    "        for file in filenames:\r\n",
    "            currentDF = pd.read_csv(os.path.join(dir, file), sep=',')\r\n",
    "            \r\n",
    "            # Unpadded\r\n",
    "            resultUnpadDF = resultUnpadDF.append(currentDF, ignore_index=True)\r\n",
    "\r\n",
    "            # Padded\r\n",
    "            currentDF = currentDF.reindex(range(getPadSize()), fill_value=0)\r\n",
    "            resultPadDF = resultPadDF.append(currentDF, ignore_index=True)\r\n",
    "\r\n",
    "            del currentDF\r\n",
    "\r\n",
    "    resultUnpadDF.to_csv(IOPath+'allFileCombineU.csv', index=False)\r\n",
    "    resultPadDF.to_csv(IOPath+'allFileCombineP.csv', index=False)\r\n",
    "\r\n",
    "if __name__ == '__main__':\r\n",
    "    main()"
   ],
   "outputs": [],
   "metadata": {}
  }
 ],
 "metadata": {
  "orig_nbformat": 4,
  "language_info": {
   "name": "python",
   "version": "3.6.7",
   "mimetype": "text/x-python",
   "codemirror_mode": {
    "name": "ipython",
    "version": 3
   },
   "pygments_lexer": "ipython3",
   "nbconvert_exporter": "python",
   "file_extension": ".py"
  },
  "kernelspec": {
   "name": "python3",
   "display_name": "Python 3.6.7 64-bit"
  },
  "interpreter": {
   "hash": "f7291e4b392a32fbfa525b87d1bbd0a3d888adf3d0deca0c205c61b9e7284b82"
  }
 },
 "nbformat": 4,
 "nbformat_minor": 2
}