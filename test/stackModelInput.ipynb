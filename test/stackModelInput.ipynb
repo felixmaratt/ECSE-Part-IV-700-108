{
 "cells": [
  {
   "cell_type": "markdown",
   "source": [
    "# This script will stack the model input data with two options ---- padded or unpadded\r\n"
   ],
   "metadata": {}
  },
  {
   "cell_type": "code",
   "execution_count": null,
   "source": [
    "import os\r\n",
    "import numpy as np\r\n",
    "import pandas as pd\r\n",
    "\r\n",
    "# make it const\r\n",
    "def getPadSize():\r\n",
    "    PAD_SIZE = 30500\r\n",
    "    return PAD_SIZE"
   ],
   "outputs": [],
   "metadata": {}
  },
  {
   "cell_type": "code",
   "execution_count": null,
   "source": [
    "def stackDF(resultDF, currentDF, PD):\r\n",
    "    if PD:\r\n",
    "        return resultDF.append(currentDF.reindex(range(getPadSize()), fill_value=0), ignore_index=True)\r\n",
    "    else:\r\n",
    "        return resultDF.append(currentDF, ignore_index=True)"
   ],
   "outputs": [],
   "metadata": {}
  },
  {
   "cell_type": "code",
   "execution_count": null,
   "source": [
    "def main():\r\n",
    "    IOPath = \"../inputFile/modelInput/\"\r\n",
    "    resultPadDF = pd.DataFrame()\r\n",
    "    resultUnpadDF = pd.DataFrame()\r\n",
    "\r\n",
    "    for dir, _, filenames in os.walk(IOPath):\r\n",
    "        for file in filenames:\r\n",
    "            currentDF = pd.read_csv(os.path.join(dir, file), sep=',')\r\n",
    "\r\n",
    "            resultUnpadDF = stackDF(resultUnpadDF, currentDF, False)\r\n",
    "            resultPadDF = stackDF(resultUnpadDF, currentDF, True)\r\n",
    "\r\n",
    "            del currentDF\r\n",
    "\r\n",
    "    resultUnpadDF.to_csv(IOPath+'allFileCombineU.csv', index=False)\r\n",
    "    resultPadDF.to_csv(IOPath+'allFileCombineP.csv', index=False)\r\n",
    "\r\n",
    "if __name__ == '__main__':\r\n",
    "    main()"
   ],
   "outputs": [],
   "metadata": {}
  }
 ],
 "metadata": {
  "orig_nbformat": 4,
  "language_info": {
   "name": "python"
  }
 },
 "nbformat": 4,
 "nbformat_minor": 2
}