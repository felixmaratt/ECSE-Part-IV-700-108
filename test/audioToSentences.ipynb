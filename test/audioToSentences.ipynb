{
 "cells": [
  {
   "cell_type": "markdown",
   "source": [
    "# This file is to split the audio to sentences with silence detection"
   ],
   "metadata": {}
  },
  {
   "cell_type": "code",
   "execution_count": 6,
   "source": [
    "!pip install pydub"
   ],
   "outputs": [
    {
     "output_type": "stream",
     "name": "stdout",
     "text": [
      "Requirement already satisfied: pydub in c:\\python39\\lib\\site-packages (0.25.1)\n"
     ]
    },
    {
     "output_type": "stream",
     "name": "stderr",
     "text": [
      "WARNING: Ignoring invalid distribution -ip (c:\\python39\\lib\\site-packages)\n",
      "WARNING: Ignoring invalid distribution - (c:\\python39\\lib\\site-packages)\n",
      "WARNING: Ignoring invalid distribution -ip (c:\\python39\\lib\\site-packages)\n",
      "WARNING: Ignoring invalid distribution - (c:\\python39\\lib\\site-packages)\n",
      "WARNING: Ignoring invalid distribution -ip (c:\\python39\\lib\\site-packages)\n",
      "WARNING: Ignoring invalid distribution - (c:\\python39\\lib\\site-packages)\n",
      "WARNING: Ignoring invalid distribution -ip (c:\\python39\\lib\\site-packages)\n",
      "WARNING: Ignoring invalid distribution - (c:\\python39\\lib\\site-packages)\n",
      "WARNING: Ignoring invalid distribution -ip (c:\\python39\\lib\\site-packages)\n",
      "WARNING: Ignoring invalid distribution - (c:\\python39\\lib\\site-packages)\n",
      "WARNING: Ignoring invalid distribution -ip (c:\\python39\\lib\\site-packages)\n",
      "WARNING: Ignoring invalid distribution - (c:\\python39\\lib\\site-packages)\n",
      "WARNING: You are using pip version 21.1.3; however, version 21.2.4 is available.\n",
      "You should consider upgrading via the 'c:\\python39\\python.exe -m pip install --upgrade pip' command.\n"
     ]
    }
   ],
   "metadata": {}
  },
  {
   "cell_type": "code",
   "execution_count": 7,
   "source": [
    "!pip install ffmpeg"
   ],
   "outputs": [
    {
     "output_type": "stream",
     "name": "stdout",
     "text": [
      "Requirement already satisfied: ffmpeg in c:\\python39\\lib\\site-packages (1.4)\n"
     ]
    },
    {
     "output_type": "stream",
     "name": "stderr",
     "text": [
      "WARNING: Ignoring invalid distribution -ip (c:\\python39\\lib\\site-packages)\n",
      "WARNING: Ignoring invalid distribution - (c:\\python39\\lib\\site-packages)\n",
      "WARNING: Ignoring invalid distribution -ip (c:\\python39\\lib\\site-packages)\n",
      "WARNING: Ignoring invalid distribution - (c:\\python39\\lib\\site-packages)\n",
      "WARNING: Ignoring invalid distribution -ip (c:\\python39\\lib\\site-packages)\n",
      "WARNING: Ignoring invalid distribution - (c:\\python39\\lib\\site-packages)\n",
      "WARNING: Ignoring invalid distribution -ip (c:\\python39\\lib\\site-packages)\n",
      "WARNING: Ignoring invalid distribution - (c:\\python39\\lib\\site-packages)\n",
      "WARNING: Ignoring invalid distribution -ip (c:\\python39\\lib\\site-packages)\n",
      "WARNING: Ignoring invalid distribution - (c:\\python39\\lib\\site-packages)\n",
      "WARNING: Ignoring invalid distribution -ip (c:\\python39\\lib\\site-packages)\n",
      "WARNING: Ignoring invalid distribution - (c:\\python39\\lib\\site-packages)\n",
      "WARNING: You are using pip version 21.1.3; however, version 21.2.4 is available.\n",
      "You should consider upgrading via the 'c:\\python39\\python.exe -m pip install --upgrade pip' command.\n"
     ]
    }
   ],
   "metadata": {}
  },
  {
   "cell_type": "code",
   "execution_count": 12,
   "source": [
    "from pydub import AudioSegment,silence\r\n",
    "\r\n",
    "myaudio = intro = AudioSegment.from_wav(\"../inputFile/emotional_behaviour/RECOLA-Audio-recordings/RECOLA-Audio-recordings/P16.wav\")\r\n",
    "\r\n",
    "silence = silence.detect_silence(myaudio, min_silence_len=1000, silence_thresh=-32)\r\n",
    "\r\n",
    "silence = [((start/1000),(stop/1000)) for start,stop in silence] #convert to sec\r\n",
    "print(silence)"
   ],
   "outputs": [
    {
     "output_type": "stream",
     "name": "stdout",
     "text": [
      "[(0.0, 1.21), (2.947, 4.066), (4.325, 9.211), (10.234, 12.861), (13.598, 14.977), (15.75, 17.174), (24.99, 34.925), (37.069, 38.095), (39.661, 42.148), (42.217, 43.584), (45.625, 47.963), (48.321, 58.311), (58.345, 59.493), (60.477, 66.009), (66.086, 68.256), (70.909, 73.243), (84.225, 85.262), (87.199, 88.492), (88.558, 90.885), (99.142, 104.833), (106.879, 107.984), (110.377, 111.998), (112.117, 113.455), (113.474, 119.82), (120.789, 125.631), (125.687, 127.83), (130.425, 142.79), (145.054, 146.301), (147.115, 148.67), (149.209, 150.211), (150.672, 155.731), (156.461, 165.984), (166.018, 167.407), (168.558, 171.25), (177.136, 178.298), (180.507, 182.045), (183.197, 184.224), (184.225, 185.484), (188.446, 196.208), (197.014, 200.041), (209.389, 214.003), (214.322, 215.518), (220.289, 224.813), (230.084, 232.545), (232.6, 235.168), (235.408, 242.622), (242.812, 253.464), (258.532, 264.507), (264.747, 267.464), (269.246, 274.557), (275.616, 287.46), (288.781, 290.15), (291.061, 293.166)]\n"
     ]
    }
   ],
   "metadata": {}
  },
  {
   "cell_type": "code",
   "execution_count": 28,
   "source": [
    "for i in range(len(silence)):\r\n",
    "    print(silence[i][0])\r\n",
    "    print(silence[i][1])"
   ],
   "outputs": [
    {
     "output_type": "stream",
     "name": "stdout",
     "text": [
      "0.0\n",
      "1.21\n",
      "2.947\n",
      "4.066\n",
      "4.325\n",
      "9.211\n",
      "10.234\n",
      "12.861\n",
      "13.598\n",
      "14.977\n",
      "15.75\n",
      "17.174\n",
      "24.99\n",
      "34.925\n",
      "37.069\n",
      "38.095\n",
      "39.661\n",
      "42.148\n",
      "42.217\n",
      "43.584\n",
      "45.625\n",
      "47.963\n",
      "48.321\n",
      "58.311\n",
      "58.345\n",
      "59.493\n",
      "60.477\n",
      "66.009\n",
      "66.086\n",
      "68.256\n",
      "70.909\n",
      "73.243\n",
      "84.225\n",
      "85.262\n",
      "87.199\n",
      "88.492\n",
      "88.558\n",
      "90.885\n",
      "99.142\n",
      "104.833\n",
      "106.879\n",
      "107.984\n",
      "110.377\n",
      "111.998\n",
      "112.117\n",
      "113.455\n",
      "113.474\n",
      "119.82\n",
      "120.789\n",
      "125.631\n",
      "125.687\n",
      "127.83\n",
      "130.425\n",
      "142.79\n",
      "145.054\n",
      "146.301\n",
      "147.115\n",
      "148.67\n",
      "149.209\n",
      "150.211\n",
      "150.672\n",
      "155.731\n",
      "156.461\n",
      "165.984\n",
      "166.018\n",
      "167.407\n",
      "168.558\n",
      "171.25\n",
      "177.136\n",
      "178.298\n",
      "180.507\n",
      "182.045\n",
      "183.197\n",
      "184.224\n",
      "184.225\n",
      "185.484\n",
      "188.446\n",
      "196.208\n",
      "197.014\n",
      "200.041\n",
      "209.389\n",
      "214.003\n",
      "214.322\n",
      "215.518\n",
      "220.289\n",
      "224.813\n",
      "230.084\n",
      "232.545\n",
      "232.6\n",
      "235.168\n",
      "235.408\n",
      "242.622\n",
      "242.812\n",
      "253.464\n",
      "258.532\n",
      "264.507\n",
      "264.747\n",
      "267.464\n",
      "269.246\n",
      "274.557\n",
      "275.616\n",
      "287.46\n",
      "288.781\n",
      "290.15\n",
      "291.061\n",
      "293.166\n"
     ]
    }
   ],
   "metadata": {}
  }
 ],
 "metadata": {
  "orig_nbformat": 4,
  "language_info": {
   "name": "python",
   "version": "3.9.2",
   "mimetype": "text/x-python",
   "codemirror_mode": {
    "name": "ipython",
    "version": 3
   },
   "pygments_lexer": "ipython3",
   "nbconvert_exporter": "python",
   "file_extension": ".py"
  },
  "kernelspec": {
   "name": "python3",
   "display_name": "Python 3.9.2 64-bit"
  },
  "interpreter": {
   "hash": "63fd5069d213b44bf678585dea6b12cceca9941eaf7f819626cde1f2670de90d"
  }
 },
 "nbformat": 4,
 "nbformat_minor": 2
}