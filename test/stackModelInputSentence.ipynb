{
 "cells": [
  {
   "cell_type": "markdown",
   "source": [
    "# This script will stack the sentences in modelInput Folder with two options, unpadded or can be moduled by padded size\r\n"
   ],
   "metadata": {}
  },
  {
   "cell_type": "code",
   "execution_count": 11,
   "source": [
    "import os\r\n",
    "import pandas as pd\r\n",
    "\r\n",
    "# make it const\r\n",
    "def getPadSize():\r\n",
    "    PAD_SIZE = 5\r\n",
    "    return PAD_SIZE"
   ],
   "outputs": [],
   "metadata": {}
  },
  {
   "cell_type": "code",
   "execution_count": 15,
   "source": [
    "def main():\r\n",
    "    IOPath = \"../inputFile/modelInput/sentences/\"\r\n",
    "    resultPadDF = pd.DataFrame()\r\n",
    "    resultUnpadDF = pd.DataFrame()\r\n",
    "\r\n",
    "    for dir, _, filenames in os.walk(IOPath):\r\n",
    "        try:\r\n",
    "            filenames.remove('allFileCombineU.csv'); filenames.remove('allFileCombineP.csv');\r\n",
    "        except:\r\n",
    "            pass\r\n",
    "        try:\r\n",
    "            filenames.remove('lengthDistribution.csv'); filenames.remove('lengthDistribution.xlsx');\r\n",
    "        except:\r\n",
    "            pass\r\n",
    "        for file in filenames:\r\n",
    "            currentDF = pd.read_csv(os.path.join(dir, file), sep=',')\r\n",
    "            \r\n",
    "            # Unpadded\r\n",
    "            resultUnpadDF = resultUnpadDF.append(currentDF, ignore_index=True)\r\n",
    "\r\n",
    "            # Padded\r\n",
    "            diff = getPadSize() - currentDF.shape[0] % getPadSize()\r\n",
    "            if diff == 5:\r\n",
    "                resultPadDF = resultPadDF.append(currentDF, ignore_index=True)\r\n",
    "            else:\r\n",
    "                currentDF = currentDF.reindex(range(currentDF.shape[0] + diff), fill_value=0)\r\n",
    "                resultPadDF = resultPadDF.append(currentDF, ignore_index=True)\r\n",
    "            del diff, currentDF\r\n",
    "\r\n",
    "    resultUnpadDF.to_csv(IOPath+'allFileCombineSentenceU.csv', index=False)\r\n",
    "    resultPadDF.to_csv(IOPath+'allFileCombineSentenceP.csv', index=False)\r\n",
    "\r\n",
    "if __name__ == '__main__':\r\n",
    "    main()"
   ],
   "outputs": [],
   "metadata": {}
  }
 ],
 "metadata": {
  "orig_nbformat": 4,
  "language_info": {
   "name": "python",
   "version": "3.9.2",
   "mimetype": "text/x-python",
   "codemirror_mode": {
    "name": "ipython",
    "version": 3
   },
   "pygments_lexer": "ipython3",
   "nbconvert_exporter": "python",
   "file_extension": ".py"
  },
  "kernelspec": {
   "name": "python3",
   "display_name": "Python 3.9.2 64-bit"
  },
  "interpreter": {
   "hash": "63fd5069d213b44bf678585dea6b12cceca9941eaf7f819626cde1f2670de90d"
  }
 },
 "nbformat": 4,
 "nbformat_minor": 2
}