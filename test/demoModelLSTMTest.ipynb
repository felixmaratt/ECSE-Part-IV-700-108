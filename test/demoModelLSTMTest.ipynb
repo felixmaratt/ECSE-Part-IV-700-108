{
 "cells": [
  {
   "cell_type": "code",
   "execution_count": null,
   "source": [
    "import numpy as np # linear algebra\r\n",
    "import pandas as pd # data processing, CSV file I/O (e.g. pd.read_csv)\r\n",
    "import seaborn as sns\r\n",
    "import pickle\r\n",
    "import os\r\n",
    "from tensorflow import keras\r\n",
    "from tensorflow.keras import layers\r\n",
    "from tensorflow.keras import callbacks\r\n",
    "from tensorflow.keras.callbacks import ReduceLROnPlateau\r\n",
    "from tensorflow.keras.optimizers import Adam\r\n",
    "from keras.wrappers.scikit_learn import KerasRegressor\r\n",
    "from sklearn.model_selection import cross_val_score\r\n",
    "from sklearn.model_selection import RandomizedSearchCV\r\n",
    "from sklearn.model_selection import KFold\r\n",
    "import matplotlib.pyplot as plt\r\n",
    "from sklearn.preprocessing import MinMaxScaler\r\n",
    "from sklearn.metrics import mean_squared_error\r\n"
   ],
   "outputs": [],
   "metadata": {
    "_cell_guid": "b1076dfc-b9ad-4769-8c92-a6c4dae69d19",
    "_uuid": "8f2839f25d086af736a60e9eeb907d3b93b6e0e5",
    "execution": {
     "iopub.execute_input": "2021-08-01T07:14:30.444209Z",
     "iopub.status.busy": "2021-08-01T07:14:30.443471Z",
     "iopub.status.idle": "2021-08-01T07:14:30.448613Z",
     "shell.execute_reply": "2021-08-01T07:14:30.449295Z",
     "shell.execute_reply.started": "2021-08-01T07:07:32.898543Z"
    },
    "papermill": {
     "duration": 0.02806,
     "end_time": "2021-08-01T07:14:30.449638",
     "exception": false,
     "start_time": "2021-08-01T07:14:30.421578",
     "status": "completed"
    },
    "tags": []
   }
  },
  {
   "cell_type": "code",
   "execution_count": null,
   "source": [
    "# prepare data for lstms\r\n",
    "from sklearn.preprocessing import MinMaxScaler\r\n",
    " \r\n",
    "# convert series to supervised learning\r\n",
    "def series_to_supervised(data, n_in=1, n_out=1, dropnan=True):\r\n",
    "\tn_vars = 1 if type(data) is list else data.shape[1]\r\n",
    "\tdf = pd.DataFrame(data)\r\n",
    "\tcols, names = list(), list()\r\n",
    "\t# input sequence (t-n, ... t-1)\r\n",
    "\tfor i in range(n_in, 0, -1):\r\n",
    "\t\tcols.append(df.shift(i))\r\n",
    "\t\tnames += [('var%d(t-%d)' % (j+1, i)) for j in range(n_vars)]\r\n",
    "\t# forecast sequence (t, t+1, ... t+n)\r\n",
    "\tfor i in range(0, n_out):\r\n",
    "\t\tcols.append(df.shift(-i))\r\n",
    "\t\tif i == 0:\r\n",
    "\t\t\tnames += [('var%d(t)' % (j+1)) for j in range(n_vars)]\r\n",
    "\t\telse:\r\n",
    "\t\t\tnames += [('var%d(t+%d)' % (j+1, i)) for j in range(n_vars)]\r\n",
    "\t# put it all together\r\n",
    "\tagg = pd.concat(cols, axis=1)\r\n",
    "\tagg.columns = names\r\n",
    "\t# drop rows with NaN values\r\n",
    "\tif dropnan:\r\n",
    "\t\tagg.dropna(inplace=True)\r\n",
    "\treturn agg\r\n",
    "\r\n",
    "# specify the number of lag hours\r\n",
    "n_steps = 24\r\n",
    "n_features = 7"
   ],
   "outputs": [],
   "metadata": {}
  },
  {
   "cell_type": "code",
   "execution_count": null,
   "source": [
    "dataset = pd.read_csv('../inputFile/modelInput/jlco0000st.csv')\r\n",
    "y_train_dataset = dataset['Arousal'][n_steps:]\r\n",
    "dataset = dataset.drop(columns=['Time','FileName','Valence','Arousal'])\r\n",
    "\r\n",
    "test_dataset = pd.read_csv('../inputFile/modelInput/sentences/allFileCombineSentenceP.csv')\r\n",
    "y_test_dataset = test_dataset['Arousal'][n_steps:]\r\n",
    "test_dataset = test_dataset.drop(columns=['Time','Valence','Arousal'])\r\n",
    "\r\n",
    "print(test_dataset.shape)\r\n",
    "print(dataset.shape)\r\n"
   ],
   "outputs": [],
   "metadata": {}
  },
  {
   "cell_type": "code",
   "execution_count": null,
   "source": [
    "\r\n",
    "# load dataset\r\n",
    "values = dataset.values\r\n",
    "test_values = test_dataset.values\r\n",
    "# normalize features\r\n",
    "scaler = MinMaxScaler(feature_range=(0, 1))\r\n",
    "scaled = scaler.fit_transform(values)\r\n",
    "test_scaled = scaler.fit_transform(test_values)\r\n",
    "# frame as supervised learning\r\n",
    "reframed = series_to_supervised(scaled, n_steps, 1)\r\n",
    "test_reframed = series_to_supervised(test_scaled, n_steps, 1)\r\n",
    "print(reframed.shape)\r\n",
    "print(test_reframed.shape)\r\n",
    "reframed"
   ],
   "outputs": [],
   "metadata": {}
  },
  {
   "cell_type": "code",
   "execution_count": null,
   "source": [
    "# split into train and test sets\r\n",
    "values = reframed.values\r\n",
    "test_values = test_reframed.values\r\n",
    "# train = values\r\n",
    "# test = test_values\r\n",
    "n_train_hours = 6030\r\n",
    "train = values[:n_train_hours, :]\r\n",
    "test = values[n_train_hours:, :]"
   ],
   "outputs": [],
   "metadata": {}
  },
  {
   "cell_type": "code",
   "execution_count": null,
   "source": [
    "# split into input and outputs\r\n",
    "n_obs = (n_steps + 1) * n_features\r\n",
    "# train_X, train_y = train[:, :n_obs], y_train_dataset\r\n",
    "# test_X, test_y = test[:, :n_obs], y_test_dataset\r\n",
    "train_X, train_y = train[:, :n_obs], y_train_dataset[0:n_train_hours]\r\n",
    "test_X, test_y = test[:, :n_obs], y_train_dataset[n_train_hours:]\r\n",
    "print(train_X.shape, len(train_X), train_y.shape)"
   ],
   "outputs": [],
   "metadata": {}
  },
  {
   "cell_type": "code",
   "execution_count": null,
   "source": [
    "# reshape input to be 3D [samples, timesteps, features]\r\n",
    "train_X = train_X.reshape((train_X.shape[0], n_steps + 1, n_features))\r\n",
    "test_X = test_X.reshape((test_X.shape[0], n_steps + 1, n_features))\r\n",
    "print(train_X.shape, train_y.shape, test_X.shape, test_y.shape)"
   ],
   "outputs": [],
   "metadata": {}
  },
  {
   "cell_type": "code",
   "execution_count": null,
   "source": [
    "def create_model():\r\n",
    "    model = keras.Sequential([\r\n",
    "        layers.LSTM(50, input_shape=(train_X.shape[1], train_X.shape[2])),\r\n",
    "        layers.Dense(1),\r\n",
    "    ])\r\n",
    "    \r\n",
    "    model.compile(optimizer = keras.optimizers.Adam(learning_rate=0.0005), loss='mean_squared_error')\r\n",
    "    \r\n",
    "    return model"
   ],
   "outputs": [],
   "metadata": {}
  },
  {
   "cell_type": "code",
   "execution_count": null,
   "source": [
    "# Create a KerasClassifier with best parameters\r\n",
    "model_KR = KerasRegressor(build_fn = create_model, batch_size = 8, epochs = 50)\r\n",
    "\r\n",
    "# Calculate the accuracy score for each fold\r\n",
    "kfolds = cross_val_score(model_KR, train_X, train_y, cv = 10)\r\n",
    "\r\n",
    "#get the accuracy\r\n",
    "print(kfolds.mean())\r\n",
    "print('The mean accuracy:', kfolds.mean())"
   ],
   "outputs": [],
   "metadata": {}
  },
  {
   "cell_type": "code",
   "execution_count": null,
   "source": [
    "#use callbacks\r\n",
    "from keras.callbacks import Callback, ReduceLROnPlateau, EarlyStopping, ModelCheckpoint\r\n",
    "\r\n",
    "checkpoint = ModelCheckpoint(\"\", monitor=\"val_loss\", verbose=1, save_best_only=True)\r\n",
    "reduce_lr = ReduceLROnPlateau(monitor='val_loss', factor=0.1, patience=5, min_lr=1e-6, verbose=1)\r\n",
    "early_stop = EarlyStopping(monitor='val_loss', min_delta=0, patience=5, mode='auto', restore_best_weights=True)"
   ],
   "outputs": [],
   "metadata": {}
  },
  {
   "cell_type": "code",
   "execution_count": null,
   "source": [
    "# fit network\r\n",
    "history = model_KR.fit(train_X, train_y, epochs=50, batch_size=8, validation_split = 0.2, verbose=2, shuffle=False, callbacks = [early_stop, checkpoint, reduce_lr])\r\n",
    "# plot history\r\n",
    "plt.plot(history.history['loss'], label='train')\r\n",
    "plt.plot(history.history['val_loss'], label='validation')\r\n",
    "plt.legend()\r\n",
    "plt.show()"
   ],
   "outputs": [],
   "metadata": {}
  },
  {
   "cell_type": "code",
   "execution_count": null,
   "source": [
    "# make a prediction\r\n",
    "yhat = model_KR.predict(test_X)\r\n",
    "# invert scaling for forecast\r\n",
    "inv_yhat = yhat\r\n",
    "#inv_yhat = inv_yhat[:,0]\r\n",
    "# invert scaling for actual\r\n",
    "inv_y = y_train_dataset[n_train_hours:]\r\n",
    "# calculate RMSE\r\n",
    "rmse = np.sqrt(mean_squared_error(inv_y, inv_yhat))\r\n",
    "print('Test RMSE: %.3f' % rmse)\r\n",
    "print(inv_yhat.shape, inv_y.shape)"
   ],
   "outputs": [],
   "metadata": {}
  },
  {
   "cell_type": "code",
   "execution_count": null,
   "source": [
    "from sklearn.metrics import r2_score\r\n",
    "r2_score(inv_y, inv_yhat)"
   ],
   "outputs": [],
   "metadata": {}
  },
  {
   "cell_type": "code",
   "execution_count": null,
   "source": [
    "pred_test_list = [i for i in inv_yhat]\r\n",
    "submission = pd.DataFrame({'Arousal' : inv_y, 'Prediction' : pred_test_list})\r\n"
   ],
   "outputs": [],
   "metadata": {}
  },
  {
   "cell_type": "code",
   "execution_count": null,
   "source": [
    "print(len(pred_test_list), inv_y.shape)\r\n",
    "submission.loc[1:, ['Arousal', 'Prediction']].plot()\r\n",
    "submission.to_csv('submission.csv', index=False)"
   ],
   "outputs": [],
   "metadata": {}
  },
  {
   "cell_type": "code",
   "execution_count": null,
   "source": [
    "correlation = submission.corr(method='pearson')\r\n",
    "print(correlation)"
   ],
   "outputs": [],
   "metadata": {}
  },
  {
   "cell_type": "code",
   "execution_count": null,
   "source": [
    "d0 = submission[['Arousal', 'Prediction']]\r\n",
    "sns.pairplot(d0, kind=\"scatter\")\r\n",
    "plt.show()"
   ],
   "outputs": [],
   "metadata": {}
  }
 ],
 "metadata": {
  "kernelspec": {
   "name": "python3",
   "display_name": "Python 3.9.2 64-bit"
  },
  "language_info": {
   "codemirror_mode": {
    "name": "ipython",
    "version": 3
   },
   "file_extension": ".py",
   "mimetype": "text/x-python",
   "name": "python",
   "nbconvert_exporter": "python",
   "pygments_lexer": "ipython3",
   "version": "3.9.2"
  },
  "papermill": {
   "default_parameters": {},
   "duration": 225.929025,
   "end_time": "2021-08-01T07:18:08.868034",
   "environment_variables": {},
   "exception": null,
   "input_path": "__notebook__.ipynb",
   "output_path": "__notebook__.ipynb",
   "parameters": {},
   "start_time": "2021-08-01T07:14:22.939009",
   "version": "2.3.3"
  },
  "interpreter": {
   "hash": "63fd5069d213b44bf678585dea6b12cceca9941eaf7f819626cde1f2670de90d"
  }
 },
 "nbformat": 4,
 "nbformat_minor": 5
}