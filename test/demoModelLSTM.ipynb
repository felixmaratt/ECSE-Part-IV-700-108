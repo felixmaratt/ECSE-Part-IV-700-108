{
 "cells": [
  {
   "cell_type": "code",
   "execution_count": 84,
   "source": [
    "import numpy as np # linear algebra\r\n",
    "import pandas as pd # data processing, CSV file I/O (e.g. pd.read_csv)\r\n",
    "import seaborn as sns\r\n",
    "import os\r\n",
    "from tensorflow import keras\r\n",
    "from tensorflow.keras import layers\r\n",
    "from tensorflow.keras import callbacks\r\n",
    "from tensorflow.keras.callbacks import ReduceLROnPlateau\r\n",
    "from tensorflow.keras.optimizers import Adam\r\n",
    "from keras.wrappers.scikit_learn import KerasRegressor\r\n",
    "from sklearn.model_selection import cross_val_score\r\n",
    "from sklearn.model_selection import RandomizedSearchCV\r\n",
    "from sklearn.model_selection import KFold\r\n",
    "\r\n",
    "import matplotlib.pyplot as plt\r\n",
    "import math\r\n",
    "from sklearn.preprocessing import MinMaxScaler\r\n",
    "from sklearn.metrics import mean_squared_error\r\n"
   ],
   "outputs": [],
   "metadata": {
    "_cell_guid": "b1076dfc-b9ad-4769-8c92-a6c4dae69d19",
    "_uuid": "8f2839f25d086af736a60e9eeb907d3b93b6e0e5",
    "execution": {
     "iopub.execute_input": "2021-08-01T07:14:30.444209Z",
     "iopub.status.busy": "2021-08-01T07:14:30.443471Z",
     "iopub.status.idle": "2021-08-01T07:14:30.448613Z",
     "shell.execute_reply": "2021-08-01T07:14:30.449295Z",
     "shell.execute_reply.started": "2021-08-01T07:07:32.898543Z"
    },
    "papermill": {
     "duration": 0.02806,
     "end_time": "2021-08-01T07:14:30.449638",
     "exception": false,
     "start_time": "2021-08-01T07:14:30.421578",
     "status": "completed"
    },
    "tags": []
   }
  },
  {
   "cell_type": "code",
   "execution_count": 85,
   "source": [
    "dataset = pd.read_csv('../inputFile/modelInput/jlco0000st.csv')\r\n",
    "dataset = dataset.drop(columns=['Time','FileName',\"Valence\"])\r\n",
    "dataset.head(5)"
   ],
   "outputs": [
    {
     "output_type": "execute_result",
     "data": {
      "text/html": [
       "<div>\n",
       "<style scoped>\n",
       "    .dataframe tbody tr th:only-of-type {\n",
       "        vertical-align: middle;\n",
       "    }\n",
       "\n",
       "    .dataframe tbody tr th {\n",
       "        vertical-align: top;\n",
       "    }\n",
       "\n",
       "    .dataframe thead th {\n",
       "        text-align: right;\n",
       "    }\n",
       "</style>\n",
       "<table border=\"1\" class=\"dataframe\">\n",
       "  <thead>\n",
       "    <tr style=\"text-align: right;\">\n",
       "      <th></th>\n",
       "      <th>Arousal</th>\n",
       "      <th>RMS(dB)</th>\n",
       "      <th>F0</th>\n",
       "      <th>MFCC1</th>\n",
       "      <th>MFCC2</th>\n",
       "      <th>MFCC3</th>\n",
       "      <th>MFCC4</th>\n",
       "      <th>MFCC5</th>\n",
       "    </tr>\n",
       "  </thead>\n",
       "  <tbody>\n",
       "    <tr>\n",
       "      <th>0</th>\n",
       "      <td>0.00</td>\n",
       "      <td>-71.713486</td>\n",
       "      <td>270.898251</td>\n",
       "      <td>-699.80646</td>\n",
       "      <td>28.912216</td>\n",
       "      <td>25.352512</td>\n",
       "      <td>21.115572</td>\n",
       "      <td>15.291195</td>\n",
       "    </tr>\n",
       "    <tr>\n",
       "      <th>1</th>\n",
       "      <td>0.00</td>\n",
       "      <td>-35.781930</td>\n",
       "      <td>189.933902</td>\n",
       "      <td>-589.86100</td>\n",
       "      <td>137.286930</td>\n",
       "      <td>56.127340</td>\n",
       "      <td>16.534332</td>\n",
       "      <td>15.156424</td>\n",
       "    </tr>\n",
       "    <tr>\n",
       "      <th>2</th>\n",
       "      <td>0.75</td>\n",
       "      <td>-34.623253</td>\n",
       "      <td>271.101014</td>\n",
       "      <td>-428.87006</td>\n",
       "      <td>161.527480</td>\n",
       "      <td>-5.255958</td>\n",
       "      <td>13.078750</td>\n",
       "      <td>-34.103554</td>\n",
       "    </tr>\n",
       "    <tr>\n",
       "      <th>3</th>\n",
       "      <td>0.85</td>\n",
       "      <td>-32.723373</td>\n",
       "      <td>288.888249</td>\n",
       "      <td>-401.31445</td>\n",
       "      <td>156.727330</td>\n",
       "      <td>-59.630970</td>\n",
       "      <td>-37.159626</td>\n",
       "      <td>-42.873610</td>\n",
       "    </tr>\n",
       "    <tr>\n",
       "      <th>4</th>\n",
       "      <td>0.70</td>\n",
       "      <td>-26.622677</td>\n",
       "      <td>265.787166</td>\n",
       "      <td>-314.31980</td>\n",
       "      <td>167.580570</td>\n",
       "      <td>-110.440020</td>\n",
       "      <td>-22.299570</td>\n",
       "      <td>-49.224373</td>\n",
       "    </tr>\n",
       "  </tbody>\n",
       "</table>\n",
       "</div>"
      ],
      "text/plain": [
       "   Arousal    RMS(dB)          F0      MFCC1       MFCC2       MFCC3  \\\n",
       "0     0.00 -71.713486  270.898251 -699.80646   28.912216   25.352512   \n",
       "1     0.00 -35.781930  189.933902 -589.86100  137.286930   56.127340   \n",
       "2     0.75 -34.623253  271.101014 -428.87006  161.527480   -5.255958   \n",
       "3     0.85 -32.723373  288.888249 -401.31445  156.727330  -59.630970   \n",
       "4     0.70 -26.622677  265.787166 -314.31980  167.580570 -110.440020   \n",
       "\n",
       "       MFCC4      MFCC5  \n",
       "0  21.115572  15.291195  \n",
       "1  16.534332  15.156424  \n",
       "2  13.078750 -34.103554  \n",
       "3 -37.159626 -42.873610  \n",
       "4 -22.299570 -49.224373  "
      ]
     },
     "metadata": {},
     "execution_count": 85
    }
   ],
   "metadata": {}
  },
  {
   "cell_type": "code",
   "execution_count": 86,
   "source": [
    "# prepare data for lstms\r\n",
    "from sklearn.preprocessing import MinMaxScaler\r\n",
    " \r\n",
    "# convert series to supervised learning\r\n",
    "def series_to_supervised(data, n_in=1, n_out=1, dropnan=True):\r\n",
    "\tn_vars = 1 if type(data) is list else data.shape[1]\r\n",
    "\tdf = pd.DataFrame(data)\r\n",
    "\tcols, names = list(), list()\r\n",
    "\t# input sequence (t-n, ... t-1)\r\n",
    "\tfor i in range(n_in, 0, -1):\r\n",
    "\t\tcols.append(df.shift(i))\r\n",
    "\t\tnames += [('var%d(t-%d)' % (j+1, i)) for j in range(n_vars)]\r\n",
    "\t# forecast sequence (t, t+1, ... t+n)\r\n",
    "\tfor i in range(0, n_out):\r\n",
    "\t\tcols.append(df.shift(-i))\r\n",
    "\t\tif i == 0:\r\n",
    "\t\t\tnames += [('var%d(t)' % (j+1)) for j in range(n_vars)]\r\n",
    "\t\telse:\r\n",
    "\t\t\tnames += [('var%d(t+%d)' % (j+1, i)) for j in range(n_vars)]\r\n",
    "\t# put it all together\r\n",
    "\tagg = pd.concat(cols, axis=1)\r\n",
    "\tagg.columns = names\r\n",
    "\t# drop rows with NaN values\r\n",
    "\tif dropnan:\r\n",
    "\t\tagg.dropna(inplace=True)\r\n",
    "\treturn agg\r\n",
    " \r\n",
    "# load dataset\r\n",
    "#dataset = pd.read_csv('../inputFile/modelInput/jlco0000st.csv', header=0, index_col=0)\r\n",
    "values = dataset.values\r\n",
    "# normalize features\r\n",
    "scaler = MinMaxScaler(feature_range=(0, 1))\r\n",
    "scaled = scaler.fit_transform(values)\r\n",
    "# specify the number of lag hours\r\n",
    "n_steps = 3\r\n",
    "n_features = 8\r\n",
    "# frame as supervised learning\r\n",
    "reframed = series_to_supervised(scaled, n_steps, 1)\r\n",
    "print(reframed.shape)"
   ],
   "outputs": [
    {
     "output_type": "stream",
     "name": "stdout",
     "text": [
      "(6705, 32)\n"
     ]
    }
   ],
   "metadata": {}
  },
  {
   "cell_type": "code",
   "execution_count": 87,
   "source": [
    "# split into train and test sets\r\n",
    "values = reframed.values\r\n",
    "n_train_steps = 5360 #80% of dataset\r\n",
    "x_\r\n",
    "train = values[:n_train_steps, :]\r\n",
    "test = values[n_train_steps:, :]"
   ],
   "outputs": [],
   "metadata": {}
  },
  {
   "cell_type": "code",
   "execution_count": 88,
   "source": [
    "# split into input and outputs\r\n",
    "n_obs = n_steps * n_features\r\n",
    "train_X, train_y = train[:, :n_obs], train[:, -n_features]\r\n",
    "test_X, test_y = test[:, :n_obs], test[:, -n_features]\r\n",
    "print(train_X.shape, len(train_X), train_y.shape)"
   ],
   "outputs": [
    {
     "output_type": "stream",
     "name": "stdout",
     "text": [
      "(5360, 24) 5360 (5360,)\n"
     ]
    }
   ],
   "metadata": {}
  },
  {
   "cell_type": "code",
   "execution_count": 89,
   "source": [
    "# reshape input to be 3D [samples, timesteps, features]\r\n",
    "train_X = train_X.reshape((train_X.shape[0], n_steps, n_features))\r\n",
    "test_X = test_X.reshape((test_X.shape[0], n_steps, n_features))\r\n",
    "print(train_X.shape, train_y.shape, test_X.shape, test_y.shape)"
   ],
   "outputs": [
    {
     "output_type": "stream",
     "name": "stdout",
     "text": [
      "(5360, 3, 8) (5360,) (1345, 3, 8) (1345,)\n"
     ]
    }
   ],
   "metadata": {}
  },
  {
   "cell_type": "code",
   "execution_count": 90,
   "source": [
    "# design network\r\n",
    "model = keras.Sequential()\r\n",
    "model.add(layers.LSTM(50, input_shape=(train_X.shape[1], train_X.shape[2])))\r\n",
    "model.add(layers.Dense(1))\r\n",
    "model.compile(loss='mae', optimizer='adam')\r\n",
    "# fit network\r\n",
    "history = model.fit(train_X, train_y, epochs=50, batch_size=72, validation_data=(test_X, test_y), verbose=2, shuffle=False)\r\n",
    "# plot history\r\n",
    "plt.plot(history.history['loss'], label='train')\r\n",
    "plt.plot(history.history['val_loss'], label='test')\r\n",
    "plt.legend()\r\n",
    "plt.show()"
   ],
   "outputs": [
    {
     "output_type": "stream",
     "name": "stdout",
     "text": [
      "Epoch 1/50\n",
      "75/75 - 3s - loss: 0.2076 - val_loss: 0.1210\n",
      "Epoch 2/50\n",
      "75/75 - 1s - loss: 0.1225 - val_loss: 0.0938\n",
      "Epoch 3/50\n",
      "75/75 - 1s - loss: 0.1094 - val_loss: 0.0987\n",
      "Epoch 4/50\n",
      "75/75 - 1s - loss: 0.1024 - val_loss: 0.0858\n",
      "Epoch 5/50\n",
      "75/75 - 0s - loss: 0.1043 - val_loss: 0.0953\n",
      "Epoch 6/50\n",
      "75/75 - 0s - loss: 0.1035 - val_loss: 0.0846\n",
      "Epoch 7/50\n",
      "75/75 - 0s - loss: 0.0941 - val_loss: 0.0817\n",
      "Epoch 8/50\n",
      "75/75 - 1s - loss: 0.0954 - val_loss: 0.0863\n",
      "Epoch 9/50\n",
      "75/75 - 1s - loss: 0.0930 - val_loss: 0.0756\n",
      "Epoch 10/50\n",
      "75/75 - 1s - loss: 0.0871 - val_loss: 0.0773\n",
      "Epoch 11/50\n",
      "75/75 - 0s - loss: 0.0896 - val_loss: 0.0716\n",
      "Epoch 12/50\n",
      "75/75 - 1s - loss: 0.0891 - val_loss: 0.0747\n",
      "Epoch 13/50\n",
      "75/75 - 0s - loss: 0.0849 - val_loss: 0.0685\n",
      "Epoch 14/50\n",
      "75/75 - 0s - loss: 0.0786 - val_loss: 0.0743\n",
      "Epoch 15/50\n",
      "75/75 - 0s - loss: 0.0801 - val_loss: 0.0673\n",
      "Epoch 16/50\n",
      "75/75 - 0s - loss: 0.0816 - val_loss: 0.0619\n",
      "Epoch 17/50\n",
      "75/75 - 0s - loss: 0.0720 - val_loss: 0.0572\n",
      "Epoch 18/50\n",
      "75/75 - 0s - loss: 0.0666 - val_loss: 0.0562\n",
      "Epoch 19/50\n",
      "75/75 - 0s - loss: 0.0673 - val_loss: 0.0579\n",
      "Epoch 20/50\n",
      "75/75 - 0s - loss: 0.0605 - val_loss: 0.0547\n",
      "Epoch 21/50\n",
      "75/75 - 0s - loss: 0.0592 - val_loss: 0.0551\n",
      "Epoch 22/50\n",
      "75/75 - 0s - loss: 0.0607 - val_loss: 0.0672\n",
      "Epoch 23/50\n",
      "75/75 - 0s - loss: 0.0639 - val_loss: 0.0539\n",
      "Epoch 24/50\n",
      "75/75 - 0s - loss: 0.0614 - val_loss: 0.0582\n",
      "Epoch 25/50\n",
      "75/75 - 0s - loss: 0.0649 - val_loss: 0.0499\n",
      "Epoch 26/50\n",
      "75/75 - 0s - loss: 0.0595 - val_loss: 0.0504\n",
      "Epoch 27/50\n",
      "75/75 - 0s - loss: 0.0562 - val_loss: 0.0472\n",
      "Epoch 28/50\n",
      "75/75 - 0s - loss: 0.0529 - val_loss: 0.0488\n",
      "Epoch 29/50\n",
      "75/75 - 0s - loss: 0.0501 - val_loss: 0.0457\n",
      "Epoch 30/50\n",
      "75/75 - 0s - loss: 0.0549 - val_loss: 0.0487\n",
      "Epoch 31/50\n",
      "75/75 - 0s - loss: 0.0536 - val_loss: 0.0456\n",
      "Epoch 32/50\n",
      "75/75 - 0s - loss: 0.0544 - val_loss: 0.0494\n",
      "Epoch 33/50\n",
      "75/75 - 0s - loss: 0.0513 - val_loss: 0.0421\n",
      "Epoch 34/50\n",
      "75/75 - 0s - loss: 0.0523 - val_loss: 0.0476\n",
      "Epoch 35/50\n",
      "75/75 - 0s - loss: 0.0500 - val_loss: 0.0437\n",
      "Epoch 36/50\n",
      "75/75 - 0s - loss: 0.0495 - val_loss: 0.0434\n",
      "Epoch 37/50\n",
      "75/75 - 0s - loss: 0.0499 - val_loss: 0.0483\n",
      "Epoch 38/50\n",
      "75/75 - 0s - loss: 0.0480 - val_loss: 0.0452\n",
      "Epoch 39/50\n",
      "75/75 - 0s - loss: 0.0475 - val_loss: 0.0448\n",
      "Epoch 40/50\n",
      "75/75 - 0s - loss: 0.0465 - val_loss: 0.0465\n",
      "Epoch 41/50\n",
      "75/75 - 0s - loss: 0.0468 - val_loss: 0.0464\n",
      "Epoch 42/50\n",
      "75/75 - 0s - loss: 0.0449 - val_loss: 0.0426\n",
      "Epoch 43/50\n",
      "75/75 - 0s - loss: 0.0455 - val_loss: 0.0476\n",
      "Epoch 44/50\n",
      "75/75 - 0s - loss: 0.0447 - val_loss: 0.0435\n",
      "Epoch 45/50\n",
      "75/75 - 0s - loss: 0.0444 - val_loss: 0.0447\n",
      "Epoch 46/50\n",
      "75/75 - 0s - loss: 0.0428 - val_loss: 0.0411\n",
      "Epoch 47/50\n",
      "75/75 - 0s - loss: 0.0453 - val_loss: 0.0471\n",
      "Epoch 48/50\n",
      "75/75 - 0s - loss: 0.0437 - val_loss: 0.0431\n",
      "Epoch 49/50\n",
      "75/75 - 0s - loss: 0.0444 - val_loss: 0.0457\n",
      "Epoch 50/50\n",
      "75/75 - 0s - loss: 0.0432 - val_loss: 0.0422\n"
     ]
    },
    {
     "output_type": "display_data",
     "data": {
      "image/png": "[encoded data removed]",
      "text/plain": [
       "<Figure size 432x288 with 1 Axes>"
      ]
     },
     "metadata": {
      "needs_background": "light"
     }
    }
   ],
   "metadata": {}
  },
  {
   "cell_type": "code",
   "execution_count": 91,
   "source": [
    "# make a prediction\r\n",
    "yhat = model.predict(test_X)\r\n",
    "test_X = test_X.reshape((test_X.shape[0], n_steps*n_features))\r\n",
    "# invert scaling for forecast\r\n",
    "inv_yhat = np.concatenate((yhat, test_X[:, -7:]), axis=1)\r\n",
    "inv_yhat = scaler.inverse_transform(inv_yhat)\r\n",
    "inv_yhat = inv_yhat[:,0]\r\n",
    "# invert scaling for actual\r\n",
    "test_y = test_y.reshape((len(test_y), 1))\r\n",
    "inv_y = np.concatenate((test_y, test_X[:, -7:]), axis=1)\r\n",
    "inv_y = scaler.inverse_transform(inv_y)\r\n",
    "inv_y = inv_y[:,0]\r\n",
    "# calculate RMSE\r\n",
    "rmse = np.sqrt(mean_squared_error(inv_y, inv_yhat))\r\n",
    "print('Test RMSE: %.3f' % rmse)"
   ],
   "outputs": [
    {
     "output_type": "stream",
     "name": "stdout",
     "text": [
      "Test RMSE: 0.129\n"
     ]
    }
   ],
   "metadata": {}
  },
  {
   "cell_type": "code",
   "execution_count": 95,
   "source": [
    "from sklearn.metrics import r2_score\r\n",
    "r2_score(inv_y, inv_yhat)"
   ],
   "outputs": [
    {
     "output_type": "execute_result",
     "data": {
      "text/plain": [
       "0.8939665104388458"
      ]
     },
     "metadata": {},
     "execution_count": 95
    }
   ],
   "metadata": {}
  },
  {
   "cell_type": "code",
   "execution_count": 92,
   "source": [
    "pred_test_list = [i for i in inv_yhat]\r\n",
    "submission = pd.DataFrame({'Arousal' : inv_y, 'Prediction' : pred_test_list})\r\n",
    "submission.loc[1:, ['Arousal', 'Prediction']][0:300].plot()\r\n",
    "submission.to_csv('submission.csv', index=False)"
   ],
   "outputs": [
    {
     "output_type": "display_data",
     "data": {
      "image/png": "[encoded data removed]",
      "text/plain": [
       "<Figure size 432x288 with 1 Axes>"
      ]
     },
     "metadata": {
      "needs_background": "light"
     }
    }
   ],
   "metadata": {}
  },
  {
   "cell_type": "code",
   "execution_count": 93,
   "source": [
    "correlation = submission.corr(method='pearson')\r\n",
    "print(correlation)"
   ],
   "outputs": [
    {
     "output_type": "stream",
     "name": "stdout",
     "text": [
      "             Arousal  Prediction\n",
      "Arousal     1.000000    0.948181\n",
      "Prediction  0.948181    1.000000\n"
     ]
    }
   ],
   "metadata": {}
  },
  {
   "cell_type": "code",
   "execution_count": 94,
   "source": [
    "d0 = submission[['Arousal', 'Prediction']]\r\n",
    "sns.pairplot(d0, kind=\"scatter\")\r\n",
    "plt.show()"
   ],
   "outputs": [
    {
     "output_type": "display_data",
     "data": {
      "image/png": "[encoded data removed]",
      "text/plain": [
       "<Figure size 360x360 with 6 Axes>"
      ]
     },
     "metadata": {
      "needs_background": "light"
     }
    }
   ],
   "metadata": {}
  }
 ],
 "metadata": {
  "kernelspec": {
   "name": "python3",
   "display_name": "Python 3.9.2 64-bit"
  },
  "language_info": {
   "codemirror_mode": {
    "name": "ipython",
    "version": 3
   },
   "file_extension": ".py",
   "mimetype": "text/x-python",
   "name": "python",
   "nbconvert_exporter": "python",
   "pygments_lexer": "ipython3",
   "version": "3.9.2"
  },
  "papermill": {
   "default_parameters": {},
   "duration": 225.929025,
   "end_time": "2021-08-01T07:18:08.868034",
   "environment_variables": {},
   "exception": null,
   "input_path": "__notebook__.ipynb",
   "output_path": "__notebook__.ipynb",
   "parameters": {},
   "start_time": "2021-08-01T07:14:22.939009",
   "version": "2.3.3"
  },
  "interpreter": {
   "hash": "63fd5069d213b44bf678585dea6b12cceca9941eaf7f819626cde1f2670de90d"
  }
 },
 "nbformat": 4,
 "nbformat_minor": 5
}